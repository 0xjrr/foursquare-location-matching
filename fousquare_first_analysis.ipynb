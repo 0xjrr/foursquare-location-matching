{
 "cells": [
  {
   "cell_type": "code",
   "execution_count": 1,
   "id": "4a6d92db",
   "metadata": {
    "execution": {
     "iopub.execute_input": "2022-06-16T00:05:00.903645Z",
     "iopub.status.busy": "2022-06-16T00:05:00.902884Z",
     "iopub.status.idle": "2022-06-16T00:05:00.923184Z",
     "shell.execute_reply": "2022-06-16T00:05:00.922352Z"
    },
    "papermill": {
     "duration": 0.034945,
     "end_time": "2022-06-16T00:05:00.925704",
     "exception": false,
     "start_time": "2022-06-16T00:05:00.890759",
     "status": "completed"
    },
    "tags": []
   },
   "outputs": [],
   "source": [
    "%config Completer.use_jedi = False"
   ]
  },
  {
   "cell_type": "code",
   "execution_count": 2,
   "id": "85642b4c",
   "metadata": {
    "execution": {
     "iopub.execute_input": "2022-06-16T00:05:00.942297Z",
     "iopub.status.busy": "2022-06-16T00:05:00.941854Z",
     "iopub.status.idle": "2022-06-16T00:05:00.946829Z",
     "shell.execute_reply": "2022-06-16T00:05:00.945707Z"
    },
    "papermill": {
     "duration": 0.01576,
     "end_time": "2022-06-16T00:05:00.949036",
     "exception": false,
     "start_time": "2022-06-16T00:05:00.933276",
     "status": "completed"
    },
    "tags": []
   },
   "outputs": [],
   "source": [
    "import numpy as np\n",
    "import pandas as pd\n",
    "import os"
   ]
  },
  {
   "cell_type": "code",
   "execution_count": 3,
   "id": "2d342f78",
   "metadata": {
    "execution": {
     "iopub.execute_input": "2022-06-16T00:05:00.964953Z",
     "iopub.status.busy": "2022-06-16T00:05:00.964470Z",
     "iopub.status.idle": "2022-06-16T00:05:00.969420Z",
     "shell.execute_reply": "2022-06-16T00:05:00.968378Z"
    },
    "papermill": {
     "duration": 0.015544,
     "end_time": "2022-06-16T00:05:00.971639",
     "exception": false,
     "start_time": "2022-06-16T00:05:00.956095",
     "status": "completed"
    },
    "tags": []
   },
   "outputs": [],
   "source": [
    "import multiprocessing\n",
    "\n",
    "cores_available = multiprocessing.cpu_count()"
   ]
  },
  {
   "cell_type": "code",
   "execution_count": 4,
   "id": "af870b99",
   "metadata": {
    "execution": {
     "iopub.execute_input": "2022-06-16T00:05:00.987471Z",
     "iopub.status.busy": "2022-06-16T00:05:00.986965Z",
     "iopub.status.idle": "2022-06-16T00:05:00.995849Z",
     "shell.execute_reply": "2022-06-16T00:05:00.994916Z"
    },
    "papermill": {
     "duration": 0.019128,
     "end_time": "2022-06-16T00:05:00.997796",
     "exception": false,
     "start_time": "2022-06-16T00:05:00.978668",
     "status": "completed"
    },
    "tags": []
   },
   "outputs": [
    {
     "data": {
      "text/plain": [
       "'/kaggle/working'"
      ]
     },
     "execution_count": 4,
     "metadata": {},
     "output_type": "execute_result"
    }
   ],
   "source": [
    "os.getcwd()"
   ]
  },
  {
   "cell_type": "code",
   "execution_count": 5,
   "id": "ef6378d3",
   "metadata": {
    "_cell_guid": "b1076dfc-b9ad-4769-8c92-a6c4dae69d19",
    "_uuid": "8f2839f25d086af736a60e9eeb907d3b93b6e0e5",
    "execution": {
     "iopub.execute_input": "2022-06-16T00:05:01.014247Z",
     "iopub.status.busy": "2022-06-16T00:05:01.013604Z",
     "iopub.status.idle": "2022-06-16T00:05:01.021109Z",
     "shell.execute_reply": "2022-06-16T00:05:01.019248Z"
    },
    "papermill": {
     "duration": 0.019097,
     "end_time": "2022-06-16T00:05:01.023913",
     "exception": false,
     "start_time": "2022-06-16T00:05:01.004816",
     "status": "completed"
    },
    "tags": []
   },
   "outputs": [
    {
     "name": "stdout",
     "output_type": "stream",
     "text": [
      "/kaggle/input/foursquare-location-matching/sample_submission.csv\n",
      "/kaggle/input/foursquare-location-matching/pairs.csv\n",
      "/kaggle/input/foursquare-location-matching/train.csv\n",
      "/kaggle/input/foursquare-location-matching/test.csv\n"
     ]
    }
   ],
   "source": [
    "for dirname, _, filenames in os.walk('/kaggle/input'):\n",
    "    for filename in filenames:\n",
    "        print(os.path.join(dirname, filename))"
   ]
  },
  {
   "cell_type": "markdown",
   "id": "14f06836",
   "metadata": {
    "papermill": {
     "duration": 0.007831,
     "end_time": "2022-06-16T00:05:01.039784",
     "exception": false,
     "start_time": "2022-06-16T00:05:01.031953",
     "status": "completed"
    },
    "tags": []
   },
   "source": [
    "Split data with knn on lat and long\n"
   ]
  },
  {
   "cell_type": "code",
   "execution_count": 6,
   "id": "165f7349",
   "metadata": {
    "execution": {
     "iopub.execute_input": "2022-06-16T00:05:01.057668Z",
     "iopub.status.busy": "2022-06-16T00:05:01.057255Z",
     "iopub.status.idle": "2022-06-16T00:05:01.060863Z",
     "shell.execute_reply": "2022-06-16T00:05:01.060165Z"
    },
    "papermill": {
     "duration": 0.014986,
     "end_time": "2022-06-16T00:05:01.062969",
     "exception": false,
     "start_time": "2022-06-16T00:05:01.047983",
     "status": "completed"
    },
    "tags": []
   },
   "outputs": [],
   "source": [
    "# pd.read_csv('kaggle/input/foursquare-location-matching/pairs.csv')"
   ]
  },
  {
   "cell_type": "code",
   "execution_count": 7,
   "id": "99940df6",
   "metadata": {
    "execution": {
     "iopub.execute_input": "2022-06-16T00:05:01.081161Z",
     "iopub.status.busy": "2022-06-16T00:05:01.080726Z",
     "iopub.status.idle": "2022-06-16T00:05:01.085150Z",
     "shell.execute_reply": "2022-06-16T00:05:01.084346Z"
    },
    "papermill": {
     "duration": 0.016109,
     "end_time": "2022-06-16T00:05:01.087174",
     "exception": false,
     "start_time": "2022-06-16T00:05:01.071065",
     "status": "completed"
    },
    "tags": []
   },
   "outputs": [],
   "source": [
    "# pd.read_csv('kaggle/input/foursquare-location-matching/test.csv')"
   ]
  },
  {
   "cell_type": "markdown",
   "id": "7570b88a",
   "metadata": {
    "papermill": {
     "duration": 0.007627,
     "end_time": "2022-06-16T00:05:01.102795",
     "exception": false,
     "start_time": "2022-06-16T00:05:01.095168",
     "status": "completed"
    },
    "tags": []
   },
   "source": [
    "#  Submission Example:"
   ]
  },
  {
   "cell_type": "code",
   "execution_count": 8,
   "id": "c0b521f1",
   "metadata": {
    "execution": {
     "iopub.execute_input": "2022-06-16T00:05:01.120041Z",
     "iopub.status.busy": "2022-06-16T00:05:01.119330Z",
     "iopub.status.idle": "2022-06-16T00:05:01.143826Z",
     "shell.execute_reply": "2022-06-16T00:05:01.142678Z"
    },
    "papermill": {
     "duration": 0.036013,
     "end_time": "2022-06-16T00:05:01.146094",
     "exception": false,
     "start_time": "2022-06-16T00:05:01.110081",
     "status": "completed"
    },
    "tags": []
   },
   "outputs": [
    {
     "data": {
      "text/html": [
       "<div>\n",
       "<style scoped>\n",
       "    .dataframe tbody tr th:only-of-type {\n",
       "        vertical-align: middle;\n",
       "    }\n",
       "\n",
       "    .dataframe tbody tr th {\n",
       "        vertical-align: top;\n",
       "    }\n",
       "\n",
       "    .dataframe thead th {\n",
       "        text-align: right;\n",
       "    }\n",
       "</style>\n",
       "<table border=\"1\" class=\"dataframe\">\n",
       "  <thead>\n",
       "    <tr style=\"text-align: right;\">\n",
       "      <th></th>\n",
       "      <th>id</th>\n",
       "      <th>matches</th>\n",
       "    </tr>\n",
       "  </thead>\n",
       "  <tbody>\n",
       "    <tr>\n",
       "      <th>0</th>\n",
       "      <td>E_00001118ad0191</td>\n",
       "      <td>E_00001118ad0191</td>\n",
       "    </tr>\n",
       "    <tr>\n",
       "      <th>1</th>\n",
       "      <td>E_000020eb6fed40</td>\n",
       "      <td>E_000020eb6fed40</td>\n",
       "    </tr>\n",
       "    <tr>\n",
       "      <th>2</th>\n",
       "      <td>E_00002f98667edf</td>\n",
       "      <td>E_00002f98667edf</td>\n",
       "    </tr>\n",
       "    <tr>\n",
       "      <th>3</th>\n",
       "      <td>E_001b6bad66eb98</td>\n",
       "      <td>E_001b6bad66eb98 E_0283d9f61e569d</td>\n",
       "    </tr>\n",
       "    <tr>\n",
       "      <th>4</th>\n",
       "      <td>E_0283d9f61e569d</td>\n",
       "      <td>E_0283d9f61e569d E_001b6bad66eb98</td>\n",
       "    </tr>\n",
       "  </tbody>\n",
       "</table>\n",
       "</div>"
      ],
      "text/plain": [
       "                 id                            matches\n",
       "0  E_00001118ad0191                   E_00001118ad0191\n",
       "1  E_000020eb6fed40                   E_000020eb6fed40\n",
       "2  E_00002f98667edf                   E_00002f98667edf\n",
       "3  E_001b6bad66eb98  E_001b6bad66eb98 E_0283d9f61e569d\n",
       "4  E_0283d9f61e569d  E_0283d9f61e569d E_001b6bad66eb98"
      ]
     },
     "execution_count": 8,
     "metadata": {},
     "output_type": "execute_result"
    }
   ],
   "source": [
    "pd.read_csv('/kaggle/input/foursquare-location-matching/sample_submission.csv')"
   ]
  },
  {
   "cell_type": "markdown",
   "id": "1e3a1929",
   "metadata": {
    "papermill": {
     "duration": 0.007541,
     "end_time": "2022-06-16T00:05:01.161191",
     "exception": false,
     "start_time": "2022-06-16T00:05:01.153650",
     "status": "completed"
    },
    "tags": []
   },
   "source": [
    "# Read training set:"
   ]
  },
  {
   "cell_type": "code",
   "execution_count": 9,
   "id": "aacb6528",
   "metadata": {
    "execution": {
     "iopub.execute_input": "2022-06-16T00:05:01.178100Z",
     "iopub.status.busy": "2022-06-16T00:05:01.177601Z",
     "iopub.status.idle": "2022-06-16T00:05:10.431948Z",
     "shell.execute_reply": "2022-06-16T00:05:10.430774Z"
    },
    "papermill": {
     "duration": 9.265947,
     "end_time": "2022-06-16T00:05:10.434803",
     "exception": false,
     "start_time": "2022-06-16T00:05:01.168856",
     "status": "completed"
    },
    "tags": []
   },
   "outputs": [],
   "source": [
    "df = pd.read_csv('/kaggle/input/foursquare-location-matching/train.csv')"
   ]
  },
  {
   "cell_type": "code",
   "execution_count": 10,
   "id": "05bda555",
   "metadata": {
    "execution": {
     "iopub.execute_input": "2022-06-16T00:05:10.452865Z",
     "iopub.status.busy": "2022-06-16T00:05:10.452088Z",
     "iopub.status.idle": "2022-06-16T00:05:10.473619Z",
     "shell.execute_reply": "2022-06-16T00:05:10.472393Z"
    },
    "papermill": {
     "duration": 0.033259,
     "end_time": "2022-06-16T00:05:10.476031",
     "exception": false,
     "start_time": "2022-06-16T00:05:10.442772",
     "status": "completed"
    },
    "tags": []
   },
   "outputs": [
    {
     "data": {
      "text/html": [
       "<div>\n",
       "<style scoped>\n",
       "    .dataframe tbody tr th:only-of-type {\n",
       "        vertical-align: middle;\n",
       "    }\n",
       "\n",
       "    .dataframe tbody tr th {\n",
       "        vertical-align: top;\n",
       "    }\n",
       "\n",
       "    .dataframe thead th {\n",
       "        text-align: right;\n",
       "    }\n",
       "</style>\n",
       "<table border=\"1\" class=\"dataframe\">\n",
       "  <thead>\n",
       "    <tr style=\"text-align: right;\">\n",
       "      <th></th>\n",
       "      <th>id</th>\n",
       "      <th>name</th>\n",
       "      <th>latitude</th>\n",
       "      <th>longitude</th>\n",
       "      <th>address</th>\n",
       "      <th>city</th>\n",
       "      <th>state</th>\n",
       "      <th>zip</th>\n",
       "      <th>country</th>\n",
       "      <th>url</th>\n",
       "      <th>phone</th>\n",
       "      <th>categories</th>\n",
       "      <th>point_of_interest</th>\n",
       "    </tr>\n",
       "  </thead>\n",
       "  <tbody>\n",
       "    <tr>\n",
       "      <th>0</th>\n",
       "      <td>E_000001272c6c5d</td>\n",
       "      <td>Café Stad Oudenaarde</td>\n",
       "      <td>50.859975</td>\n",
       "      <td>3.634196</td>\n",
       "      <td>Abdijstraat</td>\n",
       "      <td>Nederename</td>\n",
       "      <td>Oost-Vlaanderen</td>\n",
       "      <td>9700</td>\n",
       "      <td>BE</td>\n",
       "      <td>NaN</td>\n",
       "      <td>NaN</td>\n",
       "      <td>Bars</td>\n",
       "      <td>P_677e840bb6fc7e</td>\n",
       "    </tr>\n",
       "    <tr>\n",
       "      <th>1</th>\n",
       "      <td>E_000002eae2a589</td>\n",
       "      <td>Carioca Manero</td>\n",
       "      <td>-22.907225</td>\n",
       "      <td>-43.178244</td>\n",
       "      <td>NaN</td>\n",
       "      <td>NaN</td>\n",
       "      <td>NaN</td>\n",
       "      <td>NaN</td>\n",
       "      <td>BR</td>\n",
       "      <td>NaN</td>\n",
       "      <td>NaN</td>\n",
       "      <td>Brazilian Restaurants</td>\n",
       "      <td>P_d82910d8382a83</td>\n",
       "    </tr>\n",
       "    <tr>\n",
       "      <th>2</th>\n",
       "      <td>E_000007f24ebc95</td>\n",
       "      <td>ร้านตัดผมการาเกด</td>\n",
       "      <td>13.780813</td>\n",
       "      <td>100.484900</td>\n",
       "      <td>NaN</td>\n",
       "      <td>NaN</td>\n",
       "      <td>NaN</td>\n",
       "      <td>NaN</td>\n",
       "      <td>TH</td>\n",
       "      <td>NaN</td>\n",
       "      <td>NaN</td>\n",
       "      <td>Salons / Barbershops</td>\n",
       "      <td>P_b1066599e78477</td>\n",
       "    </tr>\n",
       "    <tr>\n",
       "      <th>3</th>\n",
       "      <td>E_000008a8ba4f48</td>\n",
       "      <td>Turkcell</td>\n",
       "      <td>37.844510</td>\n",
       "      <td>27.844202</td>\n",
       "      <td>Adnan Menderes Bulvarı</td>\n",
       "      <td>NaN</td>\n",
       "      <td>NaN</td>\n",
       "      <td>NaN</td>\n",
       "      <td>TR</td>\n",
       "      <td>NaN</td>\n",
       "      <td>NaN</td>\n",
       "      <td>Mobile Phone Shops</td>\n",
       "      <td>P_b2ed86905a4cd3</td>\n",
       "    </tr>\n",
       "    <tr>\n",
       "      <th>4</th>\n",
       "      <td>E_00001d92066153</td>\n",
       "      <td>Restaurante Casa Cofiño</td>\n",
       "      <td>43.338196</td>\n",
       "      <td>-4.326821</td>\n",
       "      <td>NaN</td>\n",
       "      <td>Caviedes</td>\n",
       "      <td>Cantabria</td>\n",
       "      <td>NaN</td>\n",
       "      <td>ES</td>\n",
       "      <td>NaN</td>\n",
       "      <td>NaN</td>\n",
       "      <td>Spanish Restaurants</td>\n",
       "      <td>P_809a884d4407fb</td>\n",
       "    </tr>\n",
       "  </tbody>\n",
       "</table>\n",
       "</div>"
      ],
      "text/plain": [
       "                 id                     name   latitude   longitude  \\\n",
       "0  E_000001272c6c5d     Café Stad Oudenaarde  50.859975    3.634196   \n",
       "1  E_000002eae2a589           Carioca Manero -22.907225  -43.178244   \n",
       "2  E_000007f24ebc95         ร้านตัดผมการาเกด  13.780813  100.484900   \n",
       "3  E_000008a8ba4f48                 Turkcell  37.844510   27.844202   \n",
       "4  E_00001d92066153  Restaurante Casa Cofiño  43.338196   -4.326821   \n",
       "\n",
       "                  address        city            state   zip country  url  \\\n",
       "0             Abdijstraat  Nederename  Oost-Vlaanderen  9700      BE  NaN   \n",
       "1                     NaN         NaN              NaN   NaN      BR  NaN   \n",
       "2                     NaN         NaN              NaN   NaN      TH  NaN   \n",
       "3  Adnan Menderes Bulvarı         NaN              NaN   NaN      TR  NaN   \n",
       "4                     NaN    Caviedes        Cantabria   NaN      ES  NaN   \n",
       "\n",
       "  phone             categories point_of_interest  \n",
       "0   NaN                   Bars  P_677e840bb6fc7e  \n",
       "1   NaN  Brazilian Restaurants  P_d82910d8382a83  \n",
       "2   NaN   Salons / Barbershops  P_b1066599e78477  \n",
       "3   NaN     Mobile Phone Shops  P_b2ed86905a4cd3  \n",
       "4   NaN    Spanish Restaurants  P_809a884d4407fb  "
      ]
     },
     "execution_count": 10,
     "metadata": {},
     "output_type": "execute_result"
    }
   ],
   "source": [
    "df.head(5)"
   ]
  },
  {
   "cell_type": "code",
   "execution_count": 11,
   "id": "47b50e6e",
   "metadata": {
    "execution": {
     "iopub.execute_input": "2022-06-16T00:05:10.494254Z",
     "iopub.status.busy": "2022-06-16T00:05:10.493868Z",
     "iopub.status.idle": "2022-06-16T00:05:10.776948Z",
     "shell.execute_reply": "2022-06-16T00:05:10.775777Z"
    },
    "papermill": {
     "duration": 0.294884,
     "end_time": "2022-06-16T00:05:10.779344",
     "exception": false,
     "start_time": "2022-06-16T00:05:10.484460",
     "status": "completed"
    },
    "tags": []
   },
   "outputs": [
    {
     "data": {
      "text/html": [
       "<div>\n",
       "<style scoped>\n",
       "    .dataframe tbody tr th:only-of-type {\n",
       "        vertical-align: middle;\n",
       "    }\n",
       "\n",
       "    .dataframe tbody tr th {\n",
       "        vertical-align: top;\n",
       "    }\n",
       "\n",
       "    .dataframe thead th {\n",
       "        text-align: right;\n",
       "    }\n",
       "</style>\n",
       "<table border=\"1\" class=\"dataframe\">\n",
       "  <thead>\n",
       "    <tr style=\"text-align: right;\">\n",
       "      <th></th>\n",
       "      <th>countries_count</th>\n",
       "    </tr>\n",
       "  </thead>\n",
       "  <tbody>\n",
       "    <tr>\n",
       "      <th>count</th>\n",
       "      <td>221.000000</td>\n",
       "    </tr>\n",
       "    <tr>\n",
       "      <th>mean</th>\n",
       "      <td>5152.945701</td>\n",
       "    </tr>\n",
       "    <tr>\n",
       "      <th>std</th>\n",
       "      <td>21442.432855</td>\n",
       "    </tr>\n",
       "    <tr>\n",
       "      <th>min</th>\n",
       "      <td>1.000000</td>\n",
       "    </tr>\n",
       "    <tr>\n",
       "      <th>25%</th>\n",
       "      <td>13.000000</td>\n",
       "    </tr>\n",
       "    <tr>\n",
       "      <th>50%</th>\n",
       "      <td>113.000000</td>\n",
       "    </tr>\n",
       "    <tr>\n",
       "      <th>75%</th>\n",
       "      <td>1429.000000</td>\n",
       "    </tr>\n",
       "    <tr>\n",
       "      <th>max</th>\n",
       "      <td>245284.000000</td>\n",
       "    </tr>\n",
       "  </tbody>\n",
       "</table>\n",
       "</div>"
      ],
      "text/plain": [
       "       countries_count\n",
       "count       221.000000\n",
       "mean       5152.945701\n",
       "std       21442.432855\n",
       "min           1.000000\n",
       "25%          13.000000\n",
       "50%         113.000000\n",
       "75%        1429.000000\n",
       "max      245284.000000"
      ]
     },
     "execution_count": 11,
     "metadata": {},
     "output_type": "execute_result"
    }
   ],
   "source": [
    "df.groupby('country').agg({'id':'count'}).sort_values(by='id',ascending=False).rename(columns={'id':'countries_count'}).describe()"
   ]
  },
  {
   "cell_type": "code",
   "execution_count": 12,
   "id": "45685dc5",
   "metadata": {
    "execution": {
     "iopub.execute_input": "2022-06-16T00:05:10.798962Z",
     "iopub.status.busy": "2022-06-16T00:05:10.798342Z",
     "iopub.status.idle": "2022-06-16T00:05:13.665676Z",
     "shell.execute_reply": "2022-06-16T00:05:13.664872Z"
    },
    "papermill": {
     "duration": 2.879684,
     "end_time": "2022-06-16T00:05:13.667679",
     "exception": false,
     "start_time": "2022-06-16T00:05:10.787995",
     "status": "completed"
    },
    "tags": []
   },
   "outputs": [
    {
     "data": {
      "text/html": [
       "<div>\n",
       "<style scoped>\n",
       "    .dataframe tbody tr th:only-of-type {\n",
       "        vertical-align: middle;\n",
       "    }\n",
       "\n",
       "    .dataframe tbody tr th {\n",
       "        vertical-align: top;\n",
       "    }\n",
       "\n",
       "    .dataframe thead th {\n",
       "        text-align: right;\n",
       "    }\n",
       "</style>\n",
       "<table border=\"1\" class=\"dataframe\">\n",
       "  <thead>\n",
       "    <tr style=\"text-align: right;\">\n",
       "      <th></th>\n",
       "      <th>POI_count</th>\n",
       "    </tr>\n",
       "    <tr>\n",
       "      <th>point_of_interest</th>\n",
       "      <th></th>\n",
       "    </tr>\n",
       "  </thead>\n",
       "  <tbody>\n",
       "    <tr>\n",
       "      <th>P_fb339198a31db3</th>\n",
       "      <td>332</td>\n",
       "    </tr>\n",
       "    <tr>\n",
       "      <th>P_3a3fbd26e16269</th>\n",
       "      <td>199</td>\n",
       "    </tr>\n",
       "    <tr>\n",
       "      <th>P_f70a0977377171</th>\n",
       "      <td>166</td>\n",
       "    </tr>\n",
       "    <tr>\n",
       "      <th>P_9290e406eb58ac</th>\n",
       "      <td>145</td>\n",
       "    </tr>\n",
       "    <tr>\n",
       "      <th>P_fbe61733fcdebe</th>\n",
       "      <td>132</td>\n",
       "    </tr>\n",
       "    <tr>\n",
       "      <th>...</th>\n",
       "      <td>...</td>\n",
       "    </tr>\n",
       "    <tr>\n",
       "      <th>P_6c88990990db38</th>\n",
       "      <td>1</td>\n",
       "    </tr>\n",
       "    <tr>\n",
       "      <th>P_6c884940447aa7</th>\n",
       "      <td>1</td>\n",
       "    </tr>\n",
       "    <tr>\n",
       "      <th>P_6c8847f66224e2</th>\n",
       "      <td>1</td>\n",
       "    </tr>\n",
       "    <tr>\n",
       "      <th>P_6c883c00a983b6</th>\n",
       "      <td>1</td>\n",
       "    </tr>\n",
       "    <tr>\n",
       "      <th>P_7ff3b6cf9ac32e</th>\n",
       "      <td>1</td>\n",
       "    </tr>\n",
       "  </tbody>\n",
       "</table>\n",
       "<p>739972 rows × 1 columns</p>\n",
       "</div>"
      ],
      "text/plain": [
       "                   POI_count\n",
       "point_of_interest           \n",
       "P_fb339198a31db3         332\n",
       "P_3a3fbd26e16269         199\n",
       "P_f70a0977377171         166\n",
       "P_9290e406eb58ac         145\n",
       "P_fbe61733fcdebe         132\n",
       "...                      ...\n",
       "P_6c88990990db38           1\n",
       "P_6c884940447aa7           1\n",
       "P_6c8847f66224e2           1\n",
       "P_6c883c00a983b6           1\n",
       "P_7ff3b6cf9ac32e           1\n",
       "\n",
       "[739972 rows x 1 columns]"
      ]
     },
     "execution_count": 12,
     "metadata": {},
     "output_type": "execute_result"
    }
   ],
   "source": [
    "df.groupby('point_of_interest').agg({'id':'count'}).sort_values(by='id',ascending=False).rename(columns={'id':'POI_count'})"
   ]
  },
  {
   "cell_type": "code",
   "execution_count": 13,
   "id": "82679ecf",
   "metadata": {
    "execution": {
     "iopub.execute_input": "2022-06-16T00:05:13.687276Z",
     "iopub.status.busy": "2022-06-16T00:05:13.686733Z",
     "iopub.status.idle": "2022-06-16T00:05:13.864224Z",
     "shell.execute_reply": "2022-06-16T00:05:13.863136Z"
    },
    "papermill": {
     "duration": 0.190083,
     "end_time": "2022-06-16T00:05:13.866762",
     "exception": false,
     "start_time": "2022-06-16T00:05:13.676679",
     "status": "completed"
    },
    "tags": []
   },
   "outputs": [
    {
     "data": {
      "text/html": [
       "<div>\n",
       "<style scoped>\n",
       "    .dataframe tbody tr th:only-of-type {\n",
       "        vertical-align: middle;\n",
       "    }\n",
       "\n",
       "    .dataframe tbody tr th {\n",
       "        vertical-align: top;\n",
       "    }\n",
       "\n",
       "    .dataframe thead th {\n",
       "        text-align: right;\n",
       "    }\n",
       "</style>\n",
       "<table border=\"1\" class=\"dataframe\">\n",
       "  <thead>\n",
       "    <tr style=\"text-align: right;\">\n",
       "      <th></th>\n",
       "      <th>id</th>\n",
       "      <th>name</th>\n",
       "      <th>latitude</th>\n",
       "      <th>longitude</th>\n",
       "      <th>address</th>\n",
       "      <th>city</th>\n",
       "      <th>state</th>\n",
       "      <th>zip</th>\n",
       "      <th>country</th>\n",
       "      <th>url</th>\n",
       "      <th>phone</th>\n",
       "      <th>categories</th>\n",
       "      <th>point_of_interest</th>\n",
       "    </tr>\n",
       "  </thead>\n",
       "  <tbody>\n",
       "    <tr>\n",
       "      <th>10820</th>\n",
       "      <td>E_02761e40f68230</td>\n",
       "      <td>Sukarno Hatta airport</td>\n",
       "      <td>-7.329110</td>\n",
       "      <td>108.213608</td>\n",
       "      <td>NaN</td>\n",
       "      <td>NaN</td>\n",
       "      <td>NaN</td>\n",
       "      <td>NaN</td>\n",
       "      <td>ID</td>\n",
       "      <td>NaN</td>\n",
       "      <td>NaN</td>\n",
       "      <td>Airport Terminals</td>\n",
       "      <td>P_fb339198a31db3</td>\n",
       "    </tr>\n",
       "    <tr>\n",
       "      <th>14686</th>\n",
       "      <td>E_0351377fc6b71d</td>\n",
       "      <td>Bandara Soekarno Hatta</td>\n",
       "      <td>-6.143365</td>\n",
       "      <td>106.729291</td>\n",
       "      <td>NaN</td>\n",
       "      <td>NaN</td>\n",
       "      <td>NaN</td>\n",
       "      <td>NaN</td>\n",
       "      <td>ID</td>\n",
       "      <td>NaN</td>\n",
       "      <td>NaN</td>\n",
       "      <td>NaN</td>\n",
       "      <td>P_fb339198a31db3</td>\n",
       "    </tr>\n",
       "    <tr>\n",
       "      <th>19520</th>\n",
       "      <td>E_046132a06d8bc5</td>\n",
       "      <td>Bandar Djakarta</td>\n",
       "      <td>-6.117818</td>\n",
       "      <td>106.855710</td>\n",
       "      <td>NaN</td>\n",
       "      <td>NaN</td>\n",
       "      <td>NaN</td>\n",
       "      <td>NaN</td>\n",
       "      <td>ID</td>\n",
       "      <td>NaN</td>\n",
       "      <td>NaN</td>\n",
       "      <td>NaN</td>\n",
       "      <td>P_fb339198a31db3</td>\n",
       "    </tr>\n",
       "    <tr>\n",
       "      <th>21192</th>\n",
       "      <td>E_04c39deab3aba2</td>\n",
       "      <td>Bandara Soekarnao Hatta...^^,</td>\n",
       "      <td>-6.234635</td>\n",
       "      <td>106.874453</td>\n",
       "      <td>NaN</td>\n",
       "      <td>NaN</td>\n",
       "      <td>NaN</td>\n",
       "      <td>NaN</td>\n",
       "      <td>ID</td>\n",
       "      <td>NaN</td>\n",
       "      <td>NaN</td>\n",
       "      <td>Airport Terminals</td>\n",
       "      <td>P_fb339198a31db3</td>\n",
       "    </tr>\n",
       "    <tr>\n",
       "      <th>21433</th>\n",
       "      <td>E_04d15c990bfd9e</td>\n",
       "      <td>Bandara Soekarno Hatta</td>\n",
       "      <td>1.541611</td>\n",
       "      <td>98.915245</td>\n",
       "      <td>NaN</td>\n",
       "      <td>NaN</td>\n",
       "      <td>NaN</td>\n",
       "      <td>NaN</td>\n",
       "      <td>ID</td>\n",
       "      <td>NaN</td>\n",
       "      <td>NaN</td>\n",
       "      <td>NaN</td>\n",
       "      <td>P_fb339198a31db3</td>\n",
       "    </tr>\n",
       "    <tr>\n",
       "      <th>...</th>\n",
       "      <td>...</td>\n",
       "      <td>...</td>\n",
       "      <td>...</td>\n",
       "      <td>...</td>\n",
       "      <td>...</td>\n",
       "      <td>...</td>\n",
       "      <td>...</td>\n",
       "      <td>...</td>\n",
       "      <td>...</td>\n",
       "      <td>...</td>\n",
       "      <td>...</td>\n",
       "      <td>...</td>\n",
       "      <td>...</td>\n",
       "    </tr>\n",
       "    <tr>\n",
       "      <th>1120868</th>\n",
       "      <td>E_fbfa341173cef3</td>\n",
       "      <td>Soekarno Hatta International Airport</td>\n",
       "      <td>-7.952919</td>\n",
       "      <td>112.628568</td>\n",
       "      <td>NaN</td>\n",
       "      <td>NaN</td>\n",
       "      <td>NaN</td>\n",
       "      <td>NaN</td>\n",
       "      <td>ID</td>\n",
       "      <td>NaN</td>\n",
       "      <td>NaN</td>\n",
       "      <td>NaN</td>\n",
       "      <td>P_fb339198a31db3</td>\n",
       "    </tr>\n",
       "    <tr>\n",
       "      <th>1133655</th>\n",
       "      <td>E_fed28e5ada5e81</td>\n",
       "      <td>Otw Soetta</td>\n",
       "      <td>-6.261004</td>\n",
       "      <td>106.767409</td>\n",
       "      <td>NaN</td>\n",
       "      <td>NaN</td>\n",
       "      <td>NaN</td>\n",
       "      <td>NaN</td>\n",
       "      <td>ID</td>\n",
       "      <td>NaN</td>\n",
       "      <td>NaN</td>\n",
       "      <td>NaN</td>\n",
       "      <td>P_fb339198a31db3</td>\n",
       "    </tr>\n",
       "    <tr>\n",
       "      <th>1137194</th>\n",
       "      <td>E_ffa093e04175aa</td>\n",
       "      <td>Kawasan Soetta</td>\n",
       "      <td>-6.109597</td>\n",
       "      <td>106.653188</td>\n",
       "      <td>NaN</td>\n",
       "      <td>NaN</td>\n",
       "      <td>NaN</td>\n",
       "      <td>NaN</td>\n",
       "      <td>ID</td>\n",
       "      <td>NaN</td>\n",
       "      <td>NaN</td>\n",
       "      <td>NaN</td>\n",
       "      <td>P_fb339198a31db3</td>\n",
       "    </tr>\n",
       "    <tr>\n",
       "      <th>1138441</th>\n",
       "      <td>E_ffe8c72a51f9c6</td>\n",
       "      <td>Bandara Soekarno Hatta</td>\n",
       "      <td>-6.130148</td>\n",
       "      <td>106.657134</td>\n",
       "      <td>NaN</td>\n",
       "      <td>Jakarta</td>\n",
       "      <td>NaN</td>\n",
       "      <td>NaN</td>\n",
       "      <td>ID</td>\n",
       "      <td>NaN</td>\n",
       "      <td>NaN</td>\n",
       "      <td>Buildings</td>\n",
       "      <td>P_fb339198a31db3</td>\n",
       "    </tr>\n",
       "    <tr>\n",
       "      <th>1138616</th>\n",
       "      <td>E_fff3f40a762e93</td>\n",
       "      <td>Soekarno Hatta</td>\n",
       "      <td>-0.664234</td>\n",
       "      <td>100.940320</td>\n",
       "      <td>Jln. Soekarno Hatta</td>\n",
       "      <td>Jakarta Capital Region</td>\n",
       "      <td>Jakarta Capital Region</td>\n",
       "      <td>NaN</td>\n",
       "      <td>ID</td>\n",
       "      <td>NaN</td>\n",
       "      <td>NaN</td>\n",
       "      <td>NaN</td>\n",
       "      <td>P_fb339198a31db3</td>\n",
       "    </tr>\n",
       "  </tbody>\n",
       "</table>\n",
       "<p>332 rows × 13 columns</p>\n",
       "</div>"
      ],
      "text/plain": [
       "                       id                                  name  latitude  \\\n",
       "10820    E_02761e40f68230                 Sukarno Hatta airport -7.329110   \n",
       "14686    E_0351377fc6b71d                Bandara Soekarno Hatta -6.143365   \n",
       "19520    E_046132a06d8bc5                       Bandar Djakarta -6.117818   \n",
       "21192    E_04c39deab3aba2         Bandara Soekarnao Hatta...^^, -6.234635   \n",
       "21433    E_04d15c990bfd9e                Bandara Soekarno Hatta  1.541611   \n",
       "...                   ...                                   ...       ...   \n",
       "1120868  E_fbfa341173cef3  Soekarno Hatta International Airport -7.952919   \n",
       "1133655  E_fed28e5ada5e81                            Otw Soetta -6.261004   \n",
       "1137194  E_ffa093e04175aa                        Kawasan Soetta -6.109597   \n",
       "1138441  E_ffe8c72a51f9c6                Bandara Soekarno Hatta -6.130148   \n",
       "1138616  E_fff3f40a762e93                        Soekarno Hatta -0.664234   \n",
       "\n",
       "          longitude              address                    city  \\\n",
       "10820    108.213608                  NaN                     NaN   \n",
       "14686    106.729291                  NaN                     NaN   \n",
       "19520    106.855710                  NaN                     NaN   \n",
       "21192    106.874453                  NaN                     NaN   \n",
       "21433     98.915245                  NaN                     NaN   \n",
       "...             ...                  ...                     ...   \n",
       "1120868  112.628568                  NaN                     NaN   \n",
       "1133655  106.767409                  NaN                     NaN   \n",
       "1137194  106.653188                  NaN                     NaN   \n",
       "1138441  106.657134                  NaN                 Jakarta   \n",
       "1138616  100.940320  Jln. Soekarno Hatta  Jakarta Capital Region   \n",
       "\n",
       "                          state  zip country  url phone         categories  \\\n",
       "10820                       NaN  NaN      ID  NaN   NaN  Airport Terminals   \n",
       "14686                       NaN  NaN      ID  NaN   NaN                NaN   \n",
       "19520                       NaN  NaN      ID  NaN   NaN                NaN   \n",
       "21192                       NaN  NaN      ID  NaN   NaN  Airport Terminals   \n",
       "21433                       NaN  NaN      ID  NaN   NaN                NaN   \n",
       "...                         ...  ...     ...  ...   ...                ...   \n",
       "1120868                     NaN  NaN      ID  NaN   NaN                NaN   \n",
       "1133655                     NaN  NaN      ID  NaN   NaN                NaN   \n",
       "1137194                     NaN  NaN      ID  NaN   NaN                NaN   \n",
       "1138441                     NaN  NaN      ID  NaN   NaN          Buildings   \n",
       "1138616  Jakarta Capital Region  NaN      ID  NaN   NaN                NaN   \n",
       "\n",
       "        point_of_interest  \n",
       "10820    P_fb339198a31db3  \n",
       "14686    P_fb339198a31db3  \n",
       "19520    P_fb339198a31db3  \n",
       "21192    P_fb339198a31db3  \n",
       "21433    P_fb339198a31db3  \n",
       "...                   ...  \n",
       "1120868  P_fb339198a31db3  \n",
       "1133655  P_fb339198a31db3  \n",
       "1137194  P_fb339198a31db3  \n",
       "1138441  P_fb339198a31db3  \n",
       "1138616  P_fb339198a31db3  \n",
       "\n",
       "[332 rows x 13 columns]"
      ]
     },
     "execution_count": 13,
     "metadata": {},
     "output_type": "execute_result"
    }
   ],
   "source": [
    "df.loc[df['point_of_interest']=='P_fb339198a31db3']"
   ]
  },
  {
   "cell_type": "code",
   "execution_count": 14,
   "id": "6d375e44",
   "metadata": {
    "execution": {
     "iopub.execute_input": "2022-06-16T00:05:13.887709Z",
     "iopub.status.busy": "2022-06-16T00:05:13.887247Z",
     "iopub.status.idle": "2022-06-16T00:05:14.063594Z",
     "shell.execute_reply": "2022-06-16T00:05:14.062487Z"
    },
    "papermill": {
     "duration": 0.189655,
     "end_time": "2022-06-16T00:05:14.065854",
     "exception": false,
     "start_time": "2022-06-16T00:05:13.876199",
     "status": "completed"
    },
    "tags": []
   },
   "outputs": [
    {
     "data": {
      "text/html": [
       "<div>\n",
       "<style scoped>\n",
       "    .dataframe tbody tr th:only-of-type {\n",
       "        vertical-align: middle;\n",
       "    }\n",
       "\n",
       "    .dataframe tbody tr th {\n",
       "        vertical-align: top;\n",
       "    }\n",
       "\n",
       "    .dataframe thead th {\n",
       "        text-align: right;\n",
       "    }\n",
       "</style>\n",
       "<table border=\"1\" class=\"dataframe\">\n",
       "  <thead>\n",
       "    <tr style=\"text-align: right;\">\n",
       "      <th></th>\n",
       "      <th>id</th>\n",
       "      <th>name</th>\n",
       "      <th>latitude</th>\n",
       "      <th>longitude</th>\n",
       "      <th>address</th>\n",
       "      <th>city</th>\n",
       "      <th>state</th>\n",
       "      <th>zip</th>\n",
       "      <th>country</th>\n",
       "      <th>url</th>\n",
       "      <th>phone</th>\n",
       "      <th>categories</th>\n",
       "      <th>point_of_interest</th>\n",
       "    </tr>\n",
       "  </thead>\n",
       "  <tbody>\n",
       "    <tr>\n",
       "      <th>5864</th>\n",
       "      <td>E_01561528896296</td>\n",
       "      <td>Deleted Venue (SEO)</td>\n",
       "      <td>53.977069</td>\n",
       "      <td>38.186727</td>\n",
       "      <td>NaN</td>\n",
       "      <td>NaN</td>\n",
       "      <td>NaN</td>\n",
       "      <td>NaN</td>\n",
       "      <td>RU</td>\n",
       "      <td>NaN</td>\n",
       "      <td>NaN</td>\n",
       "      <td>Mattress Stores</td>\n",
       "      <td>P_3a3fbd26e16269</td>\n",
       "    </tr>\n",
       "    <tr>\n",
       "      <th>12290</th>\n",
       "      <td>E_02c9ac4b08b798</td>\n",
       "      <td>Deleted Venue (SEO)</td>\n",
       "      <td>64.224874</td>\n",
       "      <td>41.657732</td>\n",
       "      <td>NaN</td>\n",
       "      <td>NaN</td>\n",
       "      <td>NaN</td>\n",
       "      <td>NaN</td>\n",
       "      <td>RU</td>\n",
       "      <td>NaN</td>\n",
       "      <td>NaN</td>\n",
       "      <td>Mattress Stores</td>\n",
       "      <td>P_3a3fbd26e16269</td>\n",
       "    </tr>\n",
       "    <tr>\n",
       "      <th>26065</th>\n",
       "      <td>E_05d696f881a2ab</td>\n",
       "      <td>Deleted Venue (SEO)</td>\n",
       "      <td>59.412537</td>\n",
       "      <td>24.666926</td>\n",
       "      <td>NaN</td>\n",
       "      <td>NaN</td>\n",
       "      <td>NaN</td>\n",
       "      <td>NaN</td>\n",
       "      <td>EE</td>\n",
       "      <td>NaN</td>\n",
       "      <td>NaN</td>\n",
       "      <td>Mattress Stores</td>\n",
       "      <td>P_3a3fbd26e16269</td>\n",
       "    </tr>\n",
       "    <tr>\n",
       "      <th>47312</th>\n",
       "      <td>E_0a958576584978</td>\n",
       "      <td>Deleted Venue (SEO)</td>\n",
       "      <td>54.315757</td>\n",
       "      <td>48.399682</td>\n",
       "      <td>NaN</td>\n",
       "      <td>NaN</td>\n",
       "      <td>NaN</td>\n",
       "      <td>NaN</td>\n",
       "      <td>RU</td>\n",
       "      <td>NaN</td>\n",
       "      <td>NaN</td>\n",
       "      <td>Mattress Stores</td>\n",
       "      <td>P_3a3fbd26e16269</td>\n",
       "    </tr>\n",
       "    <tr>\n",
       "      <th>47616</th>\n",
       "      <td>E_0aa699e0d786d8</td>\n",
       "      <td>Deleted Venue (SEO)</td>\n",
       "      <td>58.057184</td>\n",
       "      <td>38.768620</td>\n",
       "      <td>NaN</td>\n",
       "      <td>NaN</td>\n",
       "      <td>NaN</td>\n",
       "      <td>NaN</td>\n",
       "      <td>RU</td>\n",
       "      <td>NaN</td>\n",
       "      <td>NaN</td>\n",
       "      <td>Mattress Stores</td>\n",
       "      <td>P_3a3fbd26e16269</td>\n",
       "    </tr>\n",
       "    <tr>\n",
       "      <th>...</th>\n",
       "      <td>...</td>\n",
       "      <td>...</td>\n",
       "      <td>...</td>\n",
       "      <td>...</td>\n",
       "      <td>...</td>\n",
       "      <td>...</td>\n",
       "      <td>...</td>\n",
       "      <td>...</td>\n",
       "      <td>...</td>\n",
       "      <td>...</td>\n",
       "      <td>...</td>\n",
       "      <td>...</td>\n",
       "      <td>...</td>\n",
       "    </tr>\n",
       "    <tr>\n",
       "      <th>1118135</th>\n",
       "      <td>E_fb5cc62697c52f</td>\n",
       "      <td>Deleted Venue (SEO)</td>\n",
       "      <td>55.850651</td>\n",
       "      <td>37.520563</td>\n",
       "      <td>NaN</td>\n",
       "      <td>NaN</td>\n",
       "      <td>NaN</td>\n",
       "      <td>NaN</td>\n",
       "      <td>RU</td>\n",
       "      <td>NaN</td>\n",
       "      <td>NaN</td>\n",
       "      <td>Mattress Stores</td>\n",
       "      <td>P_3a3fbd26e16269</td>\n",
       "    </tr>\n",
       "    <tr>\n",
       "      <th>1131160</th>\n",
       "      <td>E_fe46470b6468e1</td>\n",
       "      <td>Deleted Venue (SEO)</td>\n",
       "      <td>50.642078</td>\n",
       "      <td>36.572086</td>\n",
       "      <td>NaN</td>\n",
       "      <td>NaN</td>\n",
       "      <td>NaN</td>\n",
       "      <td>NaN</td>\n",
       "      <td>RU</td>\n",
       "      <td>NaN</td>\n",
       "      <td>NaN</td>\n",
       "      <td>Mattress Stores</td>\n",
       "      <td>P_3a3fbd26e16269</td>\n",
       "    </tr>\n",
       "    <tr>\n",
       "      <th>1133143</th>\n",
       "      <td>E_feb4399ea9b283</td>\n",
       "      <td>Deleted Venue (SEO)</td>\n",
       "      <td>58.377787</td>\n",
       "      <td>26.730695</td>\n",
       "      <td>NaN</td>\n",
       "      <td>NaN</td>\n",
       "      <td>NaN</td>\n",
       "      <td>NaN</td>\n",
       "      <td>EE</td>\n",
       "      <td>NaN</td>\n",
       "      <td>NaN</td>\n",
       "      <td>Mattress Stores</td>\n",
       "      <td>P_3a3fbd26e16269</td>\n",
       "    </tr>\n",
       "    <tr>\n",
       "      <th>1135479</th>\n",
       "      <td>E_ff3e99adafc6c0</td>\n",
       "      <td>Deleted Venue (SEO)</td>\n",
       "      <td>57.636972</td>\n",
       "      <td>39.862831</td>\n",
       "      <td>NaN</td>\n",
       "      <td>NaN</td>\n",
       "      <td>NaN</td>\n",
       "      <td>NaN</td>\n",
       "      <td>RU</td>\n",
       "      <td>NaN</td>\n",
       "      <td>NaN</td>\n",
       "      <td>Mattress Stores</td>\n",
       "      <td>P_3a3fbd26e16269</td>\n",
       "    </tr>\n",
       "    <tr>\n",
       "      <th>1137767</th>\n",
       "      <td>E_ffc35b25496afe</td>\n",
       "      <td>Deleted Venue (SEO)</td>\n",
       "      <td>52.060288</td>\n",
       "      <td>47.353774</td>\n",
       "      <td>NaN</td>\n",
       "      <td>NaN</td>\n",
       "      <td>NaN</td>\n",
       "      <td>NaN</td>\n",
       "      <td>RU</td>\n",
       "      <td>NaN</td>\n",
       "      <td>NaN</td>\n",
       "      <td>Mattress Stores</td>\n",
       "      <td>P_3a3fbd26e16269</td>\n",
       "    </tr>\n",
       "  </tbody>\n",
       "</table>\n",
       "<p>199 rows × 13 columns</p>\n",
       "</div>"
      ],
      "text/plain": [
       "                       id                 name   latitude  longitude address  \\\n",
       "5864     E_01561528896296  Deleted Venue (SEO)  53.977069  38.186727     NaN   \n",
       "12290    E_02c9ac4b08b798  Deleted Venue (SEO)  64.224874  41.657732     NaN   \n",
       "26065    E_05d696f881a2ab  Deleted Venue (SEO)  59.412537  24.666926     NaN   \n",
       "47312    E_0a958576584978  Deleted Venue (SEO)  54.315757  48.399682     NaN   \n",
       "47616    E_0aa699e0d786d8  Deleted Venue (SEO)  58.057184  38.768620     NaN   \n",
       "...                   ...                  ...        ...        ...     ...   \n",
       "1118135  E_fb5cc62697c52f  Deleted Venue (SEO)  55.850651  37.520563     NaN   \n",
       "1131160  E_fe46470b6468e1  Deleted Venue (SEO)  50.642078  36.572086     NaN   \n",
       "1133143  E_feb4399ea9b283  Deleted Venue (SEO)  58.377787  26.730695     NaN   \n",
       "1135479  E_ff3e99adafc6c0  Deleted Venue (SEO)  57.636972  39.862831     NaN   \n",
       "1137767  E_ffc35b25496afe  Deleted Venue (SEO)  52.060288  47.353774     NaN   \n",
       "\n",
       "        city state  zip country  url phone       categories point_of_interest  \n",
       "5864     NaN   NaN  NaN      RU  NaN   NaN  Mattress Stores  P_3a3fbd26e16269  \n",
       "12290    NaN   NaN  NaN      RU  NaN   NaN  Mattress Stores  P_3a3fbd26e16269  \n",
       "26065    NaN   NaN  NaN      EE  NaN   NaN  Mattress Stores  P_3a3fbd26e16269  \n",
       "47312    NaN   NaN  NaN      RU  NaN   NaN  Mattress Stores  P_3a3fbd26e16269  \n",
       "47616    NaN   NaN  NaN      RU  NaN   NaN  Mattress Stores  P_3a3fbd26e16269  \n",
       "...      ...   ...  ...     ...  ...   ...              ...               ...  \n",
       "1118135  NaN   NaN  NaN      RU  NaN   NaN  Mattress Stores  P_3a3fbd26e16269  \n",
       "1131160  NaN   NaN  NaN      RU  NaN   NaN  Mattress Stores  P_3a3fbd26e16269  \n",
       "1133143  NaN   NaN  NaN      EE  NaN   NaN  Mattress Stores  P_3a3fbd26e16269  \n",
       "1135479  NaN   NaN  NaN      RU  NaN   NaN  Mattress Stores  P_3a3fbd26e16269  \n",
       "1137767  NaN   NaN  NaN      RU  NaN   NaN  Mattress Stores  P_3a3fbd26e16269  \n",
       "\n",
       "[199 rows x 13 columns]"
      ]
     },
     "execution_count": 14,
     "metadata": {},
     "output_type": "execute_result"
    }
   ],
   "source": [
    "df.loc[df['point_of_interest']=='P_3a3fbd26e16269']"
   ]
  },
  {
   "cell_type": "code",
   "execution_count": 15,
   "id": "c4fe44ff",
   "metadata": {
    "execution": {
     "iopub.execute_input": "2022-06-16T00:05:14.086573Z",
     "iopub.status.busy": "2022-06-16T00:05:14.086122Z",
     "iopub.status.idle": "2022-06-16T00:05:14.265299Z",
     "shell.execute_reply": "2022-06-16T00:05:14.264162Z"
    },
    "papermill": {
     "duration": 0.192888,
     "end_time": "2022-06-16T00:05:14.268086",
     "exception": false,
     "start_time": "2022-06-16T00:05:14.075198",
     "status": "completed"
    },
    "tags": []
   },
   "outputs": [],
   "source": [
    "import pyproj\n",
    "transformer = pyproj.Transformer.from_crs(\n",
    "        {\"proj\":'latlong', \"ellps\":'WGS84', \"datum\":'WGS84'},\n",
    "        {\"proj\":'geocent', \"ellps\":'WGS84', \"datum\":'WGS84'},\n",
    "        )\n",
    "#x, y, z = transformer.transform( lon,lat,  0,radians=False)"
   ]
  },
  {
   "cell_type": "code",
   "execution_count": 16,
   "id": "6a475f15",
   "metadata": {
    "execution": {
     "iopub.execute_input": "2022-06-16T00:05:14.289548Z",
     "iopub.status.busy": "2022-06-16T00:05:14.289104Z",
     "iopub.status.idle": "2022-06-16T00:06:21.320642Z",
     "shell.execute_reply": "2022-06-16T00:06:21.319179Z"
    },
    "papermill": {
     "duration": 67.051454,
     "end_time": "2022-06-16T00:06:21.329129",
     "exception": false,
     "start_time": "2022-06-16T00:05:14.277675",
     "status": "completed"
    },
    "tags": []
   },
   "outputs": [
    {
     "name": "stdout",
     "output_type": "stream",
     "text": [
      "CPU times: user 1min 6s, sys: 496 ms, total: 1min 7s\n",
      "Wall time: 1min 7s\n"
     ]
    }
   ],
   "source": [
    "%%time\n",
    "geocentr_cartesian = df[[ 'latitude', 'longitude']].apply(lambda x: transformer.transform( x.longitude, x.latitude, 0, radians=False), axis=1).to_numpy()"
   ]
  },
  {
   "cell_type": "code",
   "execution_count": 17,
   "id": "0ba4c83d",
   "metadata": {
    "execution": {
     "iopub.execute_input": "2022-06-16T00:06:21.349353Z",
     "iopub.status.busy": "2022-06-16T00:06:21.348955Z",
     "iopub.status.idle": "2022-06-16T00:06:41.435172Z",
     "shell.execute_reply": "2022-06-16T00:06:41.434212Z"
    },
    "papermill": {
     "duration": 20.101311,
     "end_time": "2022-06-16T00:06:41.439674",
     "exception": false,
     "start_time": "2022-06-16T00:06:21.338363",
     "status": "completed"
    },
    "tags": []
   },
   "outputs": [
    {
     "data": {
      "image/png": "[encoded data removed]",
      "text/plain": [
       "<Figure size 720x720 with 1 Axes>"
      ]
     },
     "metadata": {
      "needs_background": "light"
     },
     "output_type": "display_data"
    }
   ],
   "source": [
    "from mpl_toolkits.mplot3d import Axes3D\n",
    "import matplotlib.pyplot as plt\n",
    "fig = plt.figure(figsize=(10, 10))\n",
    "ax = plt.axes(projection='3d')\n",
    "ax.scatter3D(\n",
    "    list(map(lambda x: x[0], geocentr_cartesian)),\n",
    "    list(map(lambda x: x[1], geocentr_cartesian)),\n",
    "    list(map(lambda x: x[2], geocentr_cartesian)), \n",
    "    c=list(map(lambda x: x[1], geocentr_cartesian))\n",
    ")\n",
    "# Set limits of the 3D display\n",
    "ax.set_xlim3d([-6000000, 6000000])\n",
    "ax.set_ylim3d([-6000000, 6000000])\n",
    "ax.set_zlim3d([-6000000, 6000000])\n",
    "\n",
    "# Set labels at the 3d box/frame\n",
    "ax.set_xlabel('X')\n",
    "ax.set_ylabel('Y')\n",
    "ax.set_zlabel('Z')\n",
    "\n",
    "plt.show()"
   ]
  },
  {
   "cell_type": "code",
   "execution_count": 18,
   "id": "ed275417",
   "metadata": {
    "execution": {
     "iopub.execute_input": "2022-06-16T00:06:41.467651Z",
     "iopub.status.busy": "2022-06-16T00:06:41.466882Z",
     "iopub.status.idle": "2022-06-16T00:06:41.744343Z",
     "shell.execute_reply": "2022-06-16T00:06:41.743167Z"
    },
    "papermill": {
     "duration": 0.294312,
     "end_time": "2022-06-16T00:06:41.747201",
     "exception": false,
     "start_time": "2022-06-16T00:06:41.452889",
     "status": "completed"
    },
    "tags": []
   },
   "outputs": [],
   "source": [
    "from scipy import spatial"
   ]
  },
  {
   "cell_type": "code",
   "execution_count": 19,
   "id": "dd3c5293",
   "metadata": {
    "execution": {
     "iopub.execute_input": "2022-06-16T00:06:41.773102Z",
     "iopub.status.busy": "2022-06-16T00:06:41.772701Z",
     "iopub.status.idle": "2022-06-16T00:06:47.641037Z",
     "shell.execute_reply": "2022-06-16T00:06:47.639814Z"
    },
    "papermill": {
     "duration": 5.884945,
     "end_time": "2022-06-16T00:06:47.644326",
     "exception": false,
     "start_time": "2022-06-16T00:06:41.759381",
     "status": "completed"
    },
    "tags": []
   },
   "outputs": [
    {
     "name": "stdout",
     "output_type": "stream",
     "text": [
      "CPU times: user 10.9 s, sys: 87.7 ms, total: 11 s\n",
      "Wall time: 5.86 s\n"
     ]
    }
   ],
   "source": [
    "%%time\n",
    "\n",
    "tree = spatial.KDTree(geocentr_cartesian.tolist())\n",
    "loc_data = tree.query(geocentr_cartesian.tolist(),10, workers=max(cores_available-1, 1))    \n",
    "distances, indices = loc_data"
   ]
  },
  {
   "cell_type": "code",
   "execution_count": 20,
   "id": "9a21775b",
   "metadata": {
    "execution": {
     "iopub.execute_input": "2022-06-16T00:06:47.669745Z",
     "iopub.status.busy": "2022-06-16T00:06:47.669324Z",
     "iopub.status.idle": "2022-06-16T00:06:47.676792Z",
     "shell.execute_reply": "2022-06-16T00:06:47.675675Z"
    },
    "papermill": {
     "duration": 0.022615,
     "end_time": "2022-06-16T00:06:47.678945",
     "exception": false,
     "start_time": "2022-06-16T00:06:47.656330",
     "status": "completed"
    },
    "tags": []
   },
   "outputs": [
    {
     "data": {
      "text/plain": [
       "array([[      0,  704744,  280465, ...,   75629,  324453,  318934],\n",
       "       [      1,  860109, 1101190, ...,  911520, 1043520,   24873],\n",
       "       [      2,  812192,  119820, ...,  509371,  176102, 1032718],\n",
       "       ...,\n",
       "       [1113074,  412437, 1138809, ...,  293310,   69015,  284087],\n",
       "       [1138810,  135823,  989208, ...,  210362,  806167,   20470],\n",
       "       [1138811,  670304,  119981, ..., 1023047,  414736,  471379]])"
      ]
     },
     "execution_count": 20,
     "metadata": {},
     "output_type": "execute_result"
    }
   ],
   "source": [
    "indices"
   ]
  },
  {
   "cell_type": "code",
   "execution_count": 21,
   "id": "1afb09b7",
   "metadata": {
    "execution": {
     "iopub.execute_input": "2022-06-16T00:06:47.704805Z",
     "iopub.status.busy": "2022-06-16T00:06:47.703992Z",
     "iopub.status.idle": "2022-06-16T00:06:48.606974Z",
     "shell.execute_reply": "2022-06-16T00:06:48.605940Z"
    },
    "papermill": {
     "duration": 0.919297,
     "end_time": "2022-06-16T00:06:48.609838",
     "exception": false,
     "start_time": "2022-06-16T00:06:47.690541",
     "status": "completed"
    },
    "tags": []
   },
   "outputs": [],
   "source": [
    "from sklearn.neighbors import KNeighborsRegressor\n"
   ]
  },
  {
   "cell_type": "code",
   "execution_count": null,
   "id": "7fdcbf79",
   "metadata": {
    "papermill": {
     "duration": 0.011885,
     "end_time": "2022-06-16T00:06:48.633868",
     "exception": false,
     "start_time": "2022-06-16T00:06:48.621983",
     "status": "completed"
    },
    "tags": []
   },
   "outputs": [],
   "source": []
  }
 ],
 "metadata": {
  "kernelspec": {
   "display_name": "Python 3",
   "language": "python",
   "name": "python3"
  },
  "language_info": {
   "codemirror_mode": {
    "name": "ipython",
    "version": 3
   },
   "file_extension": ".py",
   "mimetype": "text/x-python",
   "name": "python",
   "nbconvert_exporter": "python",
   "pygments_lexer": "ipython3",
   "version": "3.7.12"
  },
  "papermill": {
   "default_parameters": {},
   "duration": 118.627345,
   "end_time": "2022-06-16T00:06:49.671354",
   "environment_variables": {},
   "exception": null,
   "input_path": "__notebook__.ipynb",
   "output_path": "__notebook__.ipynb",
   "parameters": {},
   "start_time": "2022-06-16T00:04:51.044009",
   "version": "2.3.4"
  }
 },
 "nbformat": 4,
 "nbformat_minor": 5
}
