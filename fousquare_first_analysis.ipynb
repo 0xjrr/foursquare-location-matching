{
 "cells": [
  {
   "cell_type": "code",
   "execution_count": 1,
   "id": "0daa7780",
   "metadata": {
    "_cell_guid": "b1076dfc-b9ad-4769-8c92-a6c4dae69d19",
    "_uuid": "8f2839f25d086af736a60e9eeb907d3b93b6e0e5",
    "execution": {
     "iopub.execute_input": "2022-05-29T16:44:55.378750Z",
     "iopub.status.busy": "2022-05-29T16:44:55.378123Z",
     "iopub.status.idle": "2022-05-29T16:44:55.392866Z",
     "shell.execute_reply": "2022-05-29T16:44:55.391807Z"
    },
    "papermill": {
     "duration": 0.02394,
     "end_time": "2022-05-29T16:44:55.396295",
     "exception": false,
     "start_time": "2022-05-29T16:44:55.372355",
     "status": "completed"
    },
    "tags": []
   },
   "outputs": [
    {
     "name": "stdout",
     "output_type": "stream",
     "text": [
      "/kaggle/input/foursquare-location-matching/sample_submission.csv\n",
      "/kaggle/input/foursquare-location-matching/pairs.csv\n",
      "/kaggle/input/foursquare-location-matching/train.csv\n",
      "/kaggle/input/foursquare-location-matching/test.csv\n"
     ]
    }
   ],
   "source": [
    "# This Python 3 environment comes with many helpful analytics libraries installed\n",
    "# It is defined by the kaggle/python Docker image: https://github.com/kaggle/docker-python\n",
    "# For example, here's several helpful packages to load\n",
    "\n",
    "import numpy as np # linear algebra\n",
    "import pandas as pd # data processing, CSV file I/O (e.g. pd.read_csv)\n",
    "\n",
    "# Input data files are available in the read-only \"../input/\" directory\n",
    "# For example, running this (by clicking run or pressing Shift+Enter) will list all files under the input directory\n",
    "\n",
    "import os\n",
    "for dirname, _, filenames in os.walk('/kaggle/input'):\n",
    "    for filename in filenames:\n",
    "        print(os.path.join(dirname, filename))\n",
    "\n",
    "# You can write up to 20GB to the current directory (/kaggle/working/) that gets preserved as output when you create a version using \"Save & Run All\" \n",
    "# You can also write temporary files to /kaggle/temp/, but they won't be saved outside of the current session"
   ]
  },
  {
   "cell_type": "code",
   "execution_count": 2,
   "id": "9ee4cc58",
   "metadata": {
    "execution": {
     "iopub.execute_input": "2022-05-29T16:44:55.405286Z",
     "iopub.status.busy": "2022-05-29T16:44:55.404698Z",
     "iopub.status.idle": "2022-05-29T16:44:55.435925Z",
     "shell.execute_reply": "2022-05-29T16:44:55.434595Z"
    },
    "papermill": {
     "duration": 0.037816,
     "end_time": "2022-05-29T16:44:55.438141",
     "exception": false,
     "start_time": "2022-05-29T16:44:55.400325",
     "status": "completed"
    },
    "tags": []
   },
   "outputs": [
    {
     "data": {
      "text/html": [
       "<div>\n",
       "<style scoped>\n",
       "    .dataframe tbody tr th:only-of-type {\n",
       "        vertical-align: middle;\n",
       "    }\n",
       "\n",
       "    .dataframe tbody tr th {\n",
       "        vertical-align: top;\n",
       "    }\n",
       "\n",
       "    .dataframe thead th {\n",
       "        text-align: right;\n",
       "    }\n",
       "</style>\n",
       "<table border=\"1\" class=\"dataframe\">\n",
       "  <thead>\n",
       "    <tr style=\"text-align: right;\">\n",
       "      <th></th>\n",
       "      <th>id</th>\n",
       "      <th>matches</th>\n",
       "    </tr>\n",
       "  </thead>\n",
       "  <tbody>\n",
       "    <tr>\n",
       "      <th>0</th>\n",
       "      <td>E_00001118ad0191</td>\n",
       "      <td>E_00001118ad0191</td>\n",
       "    </tr>\n",
       "    <tr>\n",
       "      <th>1</th>\n",
       "      <td>E_000020eb6fed40</td>\n",
       "      <td>E_000020eb6fed40</td>\n",
       "    </tr>\n",
       "    <tr>\n",
       "      <th>2</th>\n",
       "      <td>E_00002f98667edf</td>\n",
       "      <td>E_00002f98667edf</td>\n",
       "    </tr>\n",
       "    <tr>\n",
       "      <th>3</th>\n",
       "      <td>E_001b6bad66eb98</td>\n",
       "      <td>E_001b6bad66eb98 E_0283d9f61e569d</td>\n",
       "    </tr>\n",
       "    <tr>\n",
       "      <th>4</th>\n",
       "      <td>E_0283d9f61e569d</td>\n",
       "      <td>E_0283d9f61e569d E_001b6bad66eb98</td>\n",
       "    </tr>\n",
       "  </tbody>\n",
       "</table>\n",
       "</div>"
      ],
      "text/plain": [
       "                 id                            matches\n",
       "0  E_00001118ad0191                   E_00001118ad0191\n",
       "1  E_000020eb6fed40                   E_000020eb6fed40\n",
       "2  E_00002f98667edf                   E_00002f98667edf\n",
       "3  E_001b6bad66eb98  E_001b6bad66eb98 E_0283d9f61e569d\n",
       "4  E_0283d9f61e569d  E_0283d9f61e569d E_001b6bad66eb98"
      ]
     },
     "execution_count": 2,
     "metadata": {},
     "output_type": "execute_result"
    }
   ],
   "source": [
    "pd.read_csv('/kaggle/input/foursquare-location-matching/sample_submission.csv')"
   ]
  },
  {
   "cell_type": "code",
   "execution_count": 3,
   "id": "45139d02",
   "metadata": {
    "execution": {
     "iopub.execute_input": "2022-05-29T16:44:55.447229Z",
     "iopub.status.busy": "2022-05-29T16:44:55.445862Z",
     "iopub.status.idle": "2022-05-29T16:44:55.450910Z",
     "shell.execute_reply": "2022-05-29T16:44:55.449851Z"
    },
    "papermill": {
     "duration": 0.011618,
     "end_time": "2022-05-29T16:44:55.453187",
     "exception": false,
     "start_time": "2022-05-29T16:44:55.441569",
     "status": "completed"
    },
    "tags": []
   },
   "outputs": [],
   "source": [
    "# pd.read_csv('/kaggle/input/foursquare-location-matching/pairs.csv')"
   ]
  },
  {
   "cell_type": "code",
   "execution_count": 4,
   "id": "421ae3a5",
   "metadata": {
    "execution": {
     "iopub.execute_input": "2022-05-29T16:44:55.461325Z",
     "iopub.status.busy": "2022-05-29T16:44:55.460848Z",
     "iopub.status.idle": "2022-05-29T16:44:55.465426Z",
     "shell.execute_reply": "2022-05-29T16:44:55.464480Z"
    },
    "papermill": {
     "duration": 0.011434,
     "end_time": "2022-05-29T16:44:55.467950",
     "exception": false,
     "start_time": "2022-05-29T16:44:55.456516",
     "status": "completed"
    },
    "tags": []
   },
   "outputs": [],
   "source": [
    "# pd.read_csv('/kaggle/input/foursquare-location-matching/test.csv')"
   ]
  },
  {
   "cell_type": "code",
   "execution_count": 5,
   "id": "954a37f8",
   "metadata": {
    "execution": {
     "iopub.execute_input": "2022-05-29T16:44:55.476514Z",
     "iopub.status.busy": "2022-05-29T16:44:55.476032Z",
     "iopub.status.idle": "2022-05-29T16:45:06.501189Z",
     "shell.execute_reply": "2022-05-29T16:45:06.500024Z"
    },
    "papermill": {
     "duration": 11.032715,
     "end_time": "2022-05-29T16:45:06.503986",
     "exception": false,
     "start_time": "2022-05-29T16:44:55.471271",
     "status": "completed"
    },
    "tags": []
   },
   "outputs": [],
   "source": [
    "df = pd.read_csv('/kaggle/input/foursquare-location-matching/train.csv')"
   ]
  },
  {
   "cell_type": "code",
   "execution_count": null,
   "id": "c5be1268",
   "metadata": {
    "papermill": {
     "duration": 0.00265,
     "end_time": "2022-05-29T16:45:06.509967",
     "exception": false,
     "start_time": "2022-05-29T16:45:06.507317",
     "status": "completed"
    },
    "tags": []
   },
   "outputs": [],
   "source": []
  }
 ],
 "metadata": {
  "kernelspec": {
   "display_name": "Python 3",
   "language": "python",
   "name": "python3"
  },
  "language_info": {
   "codemirror_mode": {
    "name": "ipython",
    "version": 3
   },
   "file_extension": ".py",
   "mimetype": "text/x-python",
   "name": "python",
   "nbconvert_exporter": "python",
   "pygments_lexer": "ipython3",
   "version": "3.7.12"
  },
  "papermill": {
   "default_parameters": {},
   "duration": 23.197183,
   "end_time": "2022-05-29T16:45:07.437154",
   "environment_variables": {},
   "exception": null,
   "input_path": "__notebook__.ipynb",
   "output_path": "__notebook__.ipynb",
   "parameters": {},
   "start_time": "2022-05-29T16:44:44.239971",
   "version": "2.3.4"
  }
 },
 "nbformat": 4,
 "nbformat_minor": 5
}
