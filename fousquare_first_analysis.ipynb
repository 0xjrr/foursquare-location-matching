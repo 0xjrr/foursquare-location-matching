{
 "cells": [
  {
   "cell_type": "code",
   "execution_count": 1,
   "metadata": {
    "_cell_guid": "b1076dfc-b9ad-4769-8c92-a6c4dae69d19",
    "_uuid": "8f2839f25d086af736a60e9eeb907d3b93b6e0e5",
    "execution": {
     "iopub.execute_input": "2022-05-29T16:44:55.378750Z",
     "iopub.status.busy": "2022-05-29T16:44:55.378123Z",
     "iopub.status.idle": "2022-05-29T16:44:55.392866Z",
     "shell.execute_reply": "2022-05-29T16:44:55.391807Z"
    },
    "papermill": {
     "duration": 0.02394,
     "end_time": "2022-05-29T16:44:55.396295",
     "exception": false,
     "start_time": "2022-05-29T16:44:55.372355",
     "status": "completed"
    },
    "tags": []
   },
   "outputs": [],
   "source": [
    "# This Python 3 environment comes with many helpful analytics libraries installed\n",
    "# It is defined by the kaggle/python Docker image: https://github.com/kaggle/docker-python\n",
    "# For example, here's several helpful packages to load\n",
    "\n",
    "import numpy as np # linear algebra\n",
    "import pandas as pd # data processing, CSV file I/O (e.g. pd.read_csv)\n",
    "\n",
    "# Input data files are available in the read-only \"../input/\" directory\n",
    "# For example, running this (by clicking run or pressing Shift+Enter) will list all files under the input directory\n",
    "\n",
    "import os\n",
    "for dirname, _, filenames in os.walk('/kaggle/input'):\n",
    "    for filename in filenames:\n",
    "        print(os.path.join(dirname, filename))\n",
    "\n",
    "# You can write up to 20GB to the current directory (/kaggle/working/) that gets preserved as output when you create a version using \"Save & Run All\" \n",
    "# You can also write temporary files to /kaggle/temp/, but they won't be saved outside of the current session"
   ]
  },
  {
   "cell_type": "markdown",
   "metadata": {},
   "source": [
    "Split data with knn on lat and long\n"
   ]
  },
  {
   "cell_type": "code",
   "execution_count": 2,
   "metadata": {
    "execution": {
     "iopub.execute_input": "2022-05-29T16:44:55.447229Z",
     "iopub.status.busy": "2022-05-29T16:44:55.445862Z",
     "iopub.status.idle": "2022-05-29T16:44:55.450910Z",
     "shell.execute_reply": "2022-05-29T16:44:55.449851Z"
    },
    "papermill": {
     "duration": 0.011618,
     "end_time": "2022-05-29T16:44:55.453187",
     "exception": false,
     "start_time": "2022-05-29T16:44:55.441569",
     "status": "completed"
    },
    "tags": []
   },
   "outputs": [],
   "source": [
    "# pd.read_csv('kaggle/input/foursquare-location-matching/pairs.csv')"
   ]
  },
  {
   "cell_type": "code",
   "execution_count": 3,
   "metadata": {
    "execution": {
     "iopub.execute_input": "2022-05-29T16:44:55.461325Z",
     "iopub.status.busy": "2022-05-29T16:44:55.460848Z",
     "iopub.status.idle": "2022-05-29T16:44:55.465426Z",
     "shell.execute_reply": "2022-05-29T16:44:55.464480Z"
    },
    "papermill": {
     "duration": 0.011434,
     "end_time": "2022-05-29T16:44:55.467950",
     "exception": false,
     "start_time": "2022-05-29T16:44:55.456516",
     "status": "completed"
    },
    "tags": []
   },
   "outputs": [],
   "source": [
    "# pd.read_csv('kaggle/input/foursquare-location-matching/test.csv')"
   ]
  },
  {
   "cell_type": "code",
   "execution_count": 4,
   "metadata": {
    "execution": {
     "iopub.execute_input": "2022-05-29T16:44:55.405286Z",
     "iopub.status.busy": "2022-05-29T16:44:55.404698Z",
     "iopub.status.idle": "2022-05-29T16:44:55.435925Z",
     "shell.execute_reply": "2022-05-29T16:44:55.434595Z"
    },
    "papermill": {
     "duration": 0.037816,
     "end_time": "2022-05-29T16:44:55.438141",
     "exception": false,
     "start_time": "2022-05-29T16:44:55.400325",
     "status": "completed"
    },
    "tags": []
   },
   "outputs": [
    {
     "data": {
      "text/html": [
       "<div>\n",
       "<style scoped>\n",
       "    .dataframe tbody tr th:only-of-type {\n",
       "        vertical-align: middle;\n",
       "    }\n",
       "\n",
       "    .dataframe tbody tr th {\n",
       "        vertical-align: top;\n",
       "    }\n",
       "\n",
       "    .dataframe thead th {\n",
       "        text-align: right;\n",
       "    }\n",
       "</style>\n",
       "<table border=\"1\" class=\"dataframe\">\n",
       "  <thead>\n",
       "    <tr style=\"text-align: right;\">\n",
       "      <th></th>\n",
       "      <th>id</th>\n",
       "      <th>matches</th>\n",
       "    </tr>\n",
       "  </thead>\n",
       "  <tbody>\n",
       "    <tr>\n",
       "      <th>0</th>\n",
       "      <td>E_00001118ad0191</td>\n",
       "      <td>E_00001118ad0191</td>\n",
       "    </tr>\n",
       "    <tr>\n",
       "      <th>1</th>\n",
       "      <td>E_000020eb6fed40</td>\n",
       "      <td>E_000020eb6fed40</td>\n",
       "    </tr>\n",
       "    <tr>\n",
       "      <th>2</th>\n",
       "      <td>E_00002f98667edf</td>\n",
       "      <td>E_00002f98667edf</td>\n",
       "    </tr>\n",
       "    <tr>\n",
       "      <th>3</th>\n",
       "      <td>E_001b6bad66eb98</td>\n",
       "      <td>E_001b6bad66eb98 E_0283d9f61e569d</td>\n",
       "    </tr>\n",
       "    <tr>\n",
       "      <th>4</th>\n",
       "      <td>E_0283d9f61e569d</td>\n",
       "      <td>E_0283d9f61e569d E_001b6bad66eb98</td>\n",
       "    </tr>\n",
       "  </tbody>\n",
       "</table>\n",
       "</div>"
      ],
      "text/plain": [
       "                 id                            matches\n",
       "0  E_00001118ad0191                   E_00001118ad0191\n",
       "1  E_000020eb6fed40                   E_000020eb6fed40\n",
       "2  E_00002f98667edf                   E_00002f98667edf\n",
       "3  E_001b6bad66eb98  E_001b6bad66eb98 E_0283d9f61e569d\n",
       "4  E_0283d9f61e569d  E_0283d9f61e569d E_001b6bad66eb98"
      ]
     },
     "execution_count": 4,
     "metadata": {},
     "output_type": "execute_result"
    }
   ],
   "source": [
    "pd.read_csv('kaggle/input/foursquare-location-matching/sample_submission.csv')"
   ]
  },
  {
   "cell_type": "code",
   "execution_count": 5,
   "metadata": {
    "execution": {
     "iopub.execute_input": "2022-05-29T16:44:55.476514Z",
     "iopub.status.busy": "2022-05-29T16:44:55.476032Z",
     "iopub.status.idle": "2022-05-29T16:45:06.501189Z",
     "shell.execute_reply": "2022-05-29T16:45:06.500024Z"
    },
    "papermill": {
     "duration": 11.032715,
     "end_time": "2022-05-29T16:45:06.503986",
     "exception": false,
     "start_time": "2022-05-29T16:44:55.471271",
     "status": "completed"
    },
    "tags": []
   },
   "outputs": [],
   "source": [
    "df = pd.read_csv('kaggle/input/foursquare-location-matching/train.csv')"
   ]
  },
  {
   "cell_type": "code",
   "execution_count": 6,
   "metadata": {
    "papermill": {
     "duration": 0.00265,
     "end_time": "2022-05-29T16:45:06.509967",
     "exception": false,
     "start_time": "2022-05-29T16:45:06.507317",
     "status": "completed"
    },
    "tags": []
   },
   "outputs": [
    {
     "data": {
      "text/plain": [
       "array(['BE', 'BR', 'TH', 'TR', 'ES', 'PH', 'KW', 'ID', 'US', 'DE', 'SA',\n",
       "       'JP', 'MY', 'IT', 'FR', 'PT', 'EG', 'MX', 'UA', 'RU', 'KR', 'MV',\n",
       "       'ZA', 'CL', 'HU', 'CA', 'SG', 'FI', 'RO', 'IR', 'SK', 'MK', 'CH',\n",
       "       'GB', 'PL', 'CZ', 'AT', 'CN', 'RS', 'AR', 'KH', 'IN', 'TW', 'LV',\n",
       "       'PY', 'DO', 'AE', 'VN', 'VE', 'PE', 'BY', 'IE', 'XX', 'MW', 'NL',\n",
       "       'AU', 'DK', 'KZ', 'CR', 'PR', 'BG', 'GR', 'HK', 'GE', 'AG', 'CO',\n",
       "       'MU', 'ME', 'MQ', 'AM', 'IL', 'NZ', 'MT', 'KE', 'PF', 'PA', 'SE',\n",
       "       'BT', 'SI', 'CW', 'CY', 'AL', 'LB', 'NO', 'EE', 'BN', 'BH', 'LU',\n",
       "       'FJ', 'MD', 'LT', 'TT', 'JO', 'LA', 'QA', 'TN', 'HR', 'AZ', 'RW',\n",
       "       'SV', 'GH', 'EC', 'PK', 'UY', 'SR', 'JM', 'MA', 'ZM', 'AW', 'MO',\n",
       "       'BS', 'LK', 'SY', 'UZ', 'NI', 'IS', 'TM', 'GU', 'GT', 'RE', 'BO',\n",
       "       'IM', 'CU', 'BB', 'AO', 'NP', 'OM', 'NG', 'HN', 'KY', 'UG', 'MN',\n",
       "       'BD', 'MM', 'ET', 'MC', 'KG', 'AX', 'MG', 'SD', 'KP', 'DZ', 'BL',\n",
       "       'WS', 'HT', 'MZ', 'TC', 'YE', 'BA', 'CV', 'AQ', 'XK', 'IQ', 'BZ',\n",
       "       'PG', 'CI', 'BW', 'GI', 'ZW', 'SC', 'PS', 'AF', 'KN', 'SM', 'GG',\n",
       "       'SZ', nan, 'MP', 'VI', 'BM', 'DJ', 'GF', 'TZ', 'AI', 'DM', 'GW',\n",
       "       'NE', 'GD', 'AD', 'BF', 'GQ', 'SN', 'JE', 'GP', 'BQ', 'CD', 'VA',\n",
       "       'SX', 'LC', 'SH', 'GM', 'CM', 'TO', 'TL', 'NC', 'LR', 'SO', 'BJ',\n",
       "       'TG', 'YT', 'VC', 'EH', 'LI', 'TJ', 'AN', 'BI', 'VG', 'SJ', 'GA',\n",
       "       'SL', 'PW', 'EU', 'LY', 'MF', 'ST', 'GL', 'BV', 'FO', 'GY', 'PM',\n",
       "       'SS', 'VU'], dtype=object)"
      ]
     },
     "execution_count": 6,
     "metadata": {},
     "output_type": "execute_result"
    }
   ],
   "source": [
    "df.country.unique()"
   ]
  },
  {
   "cell_type": "code",
   "execution_count": 30,
   "metadata": {},
   "outputs": [
    {
     "data": {
      "text/plain": [
       "id                   1138812\n",
       "name                 1138811\n",
       "latitude             1138812\n",
       "longitude            1138812\n",
       "address               742191\n",
       "city                  839623\n",
       "state                 718226\n",
       "zip                   543386\n",
       "country              1138801\n",
       "url                   267724\n",
       "phone                 342855\n",
       "categories           1040505\n",
       "point_of_interest    1138812\n",
       "dtype: int64"
      ]
     },
     "execution_count": 30,
     "metadata": {},
     "output_type": "execute_result"
    }
   ],
   "source": [
    "df.count()"
   ]
  },
  {
   "cell_type": "code",
   "execution_count": 27,
   "metadata": {},
   "outputs": [
    {
     "data": {
      "text/html": [
       "<div>\n",
       "<style scoped>\n",
       "    .dataframe tbody tr th:only-of-type {\n",
       "        vertical-align: middle;\n",
       "    }\n",
       "\n",
       "    .dataframe tbody tr th {\n",
       "        vertical-align: top;\n",
       "    }\n",
       "\n",
       "    .dataframe thead th {\n",
       "        text-align: right;\n",
       "    }\n",
       "</style>\n",
       "<table border=\"1\" class=\"dataframe\">\n",
       "  <thead>\n",
       "    <tr style=\"text-align: right;\">\n",
       "      <th></th>\n",
       "      <th>latitude</th>\n",
       "      <th>longitude</th>\n",
       "    </tr>\n",
       "  </thead>\n",
       "  <tbody>\n",
       "    <tr>\n",
       "      <th>count</th>\n",
       "      <td>1.138812e+06</td>\n",
       "      <td>1.138812e+06</td>\n",
       "    </tr>\n",
       "    <tr>\n",
       "      <th>mean</th>\n",
       "      <td>2.687460e+01</td>\n",
       "      <td>2.070497e+01</td>\n",
       "    </tr>\n",
       "    <tr>\n",
       "      <th>std</th>\n",
       "      <td>2.314474e+01</td>\n",
       "      <td>8.267784e+01</td>\n",
       "    </tr>\n",
       "    <tr>\n",
       "      <th>min</th>\n",
       "      <td>-8.492774e+01</td>\n",
       "      <td>-1.751602e+02</td>\n",
       "    </tr>\n",
       "    <tr>\n",
       "      <th>25%</th>\n",
       "      <td>1.276506e+01</td>\n",
       "      <td>-7.143512e+01</td>\n",
       "    </tr>\n",
       "    <tr>\n",
       "      <th>50%</th>\n",
       "      <td>3.570244e+01</td>\n",
       "      <td>2.893202e+01</td>\n",
       "    </tr>\n",
       "    <tr>\n",
       "      <th>75%</th>\n",
       "      <td>4.167972e+01</td>\n",
       "      <td>1.022178e+02</td>\n",
       "    </tr>\n",
       "    <tr>\n",
       "      <th>max</th>\n",
       "      <td>8.505113e+01</td>\n",
       "      <td>1.784404e+02</td>\n",
       "    </tr>\n",
       "  </tbody>\n",
       "</table>\n",
       "</div>"
      ],
      "text/plain": [
       "           latitude     longitude\n",
       "count  1.138812e+06  1.138812e+06\n",
       "mean   2.687460e+01  2.070497e+01\n",
       "std    2.314474e+01  8.267784e+01\n",
       "min   -8.492774e+01 -1.751602e+02\n",
       "25%    1.276506e+01 -7.143512e+01\n",
       "50%    3.570244e+01  2.893202e+01\n",
       "75%    4.167972e+01  1.022178e+02\n",
       "max    8.505113e+01  1.784404e+02"
      ]
     },
     "execution_count": 27,
     "metadata": {},
     "output_type": "execute_result"
    }
   ],
   "source": [
    "df.describe()"
   ]
  },
  {
   "cell_type": "code",
   "execution_count": 14,
   "metadata": {},
   "outputs": [],
   "source": [
    "values_count = df.point_of_interest.apply(lambda x: len(x))"
   ]
  },
  {
   "cell_type": "code",
   "execution_count": 11,
   "metadata": {},
   "outputs": [
    {
     "data": {
      "text/html": [
       "<div>\n",
       "<style scoped>\n",
       "    .dataframe tbody tr th:only-of-type {\n",
       "        vertical-align: middle;\n",
       "    }\n",
       "\n",
       "    .dataframe tbody tr th {\n",
       "        vertical-align: top;\n",
       "    }\n",
       "\n",
       "    .dataframe thead th {\n",
       "        text-align: right;\n",
       "    }\n",
       "</style>\n",
       "<table border=\"1\" class=\"dataframe\">\n",
       "  <thead>\n",
       "    <tr style=\"text-align: right;\">\n",
       "      <th></th>\n",
       "      <th>id</th>\n",
       "    </tr>\n",
       "    <tr>\n",
       "      <th>point_of_interest</th>\n",
       "      <th></th>\n",
       "    </tr>\n",
       "  </thead>\n",
       "  <tbody>\n",
       "    <tr>\n",
       "      <th>P_00000458b5ff8e</th>\n",
       "      <td>E_b4a705f3f2e85e</td>\n",
       "    </tr>\n",
       "    <tr>\n",
       "      <th>P_00001c309a5e0a</th>\n",
       "      <td>E_3b8a876a004093,E_7b12ba037d7af8,E_a66af82051...</td>\n",
       "    </tr>\n",
       "    <tr>\n",
       "      <th>P_000047d288cb51</th>\n",
       "      <td>E_9822da0f40eaa3</td>\n",
       "    </tr>\n",
       "    <tr>\n",
       "      <th>P_0000561fe92bed</th>\n",
       "      <td>E_2f12c350e37a69,E_e14714f4aa6461</td>\n",
       "    </tr>\n",
       "    <tr>\n",
       "      <th>P_0000bccb92573c</th>\n",
       "      <td>E_408896b60c7893,E_822bc2df39ec06</td>\n",
       "    </tr>\n",
       "    <tr>\n",
       "      <th>...</th>\n",
       "      <td>...</td>\n",
       "    </tr>\n",
       "    <tr>\n",
       "      <th>P_ffff287983c417</th>\n",
       "      <td>E_47d063fddd9115,E_ca42d07c618f1c</td>\n",
       "    </tr>\n",
       "    <tr>\n",
       "      <th>P_ffff42b86df943</th>\n",
       "      <td>E_4d52ca0489f774</td>\n",
       "    </tr>\n",
       "    <tr>\n",
       "      <th>P_ffff47d56844f9</th>\n",
       "      <td>E_c32f2d8e15a529</td>\n",
       "    </tr>\n",
       "    <tr>\n",
       "      <th>P_ffffa5ef8f6b07</th>\n",
       "      <td>E_12c3aee0fd46bf,E_62e191be55a951</td>\n",
       "    </tr>\n",
       "    <tr>\n",
       "      <th>P_fffff25b7a8282</th>\n",
       "      <td>E_f3fd59ee1756c8,E_ff9d2f082cb99e</td>\n",
       "    </tr>\n",
       "  </tbody>\n",
       "</table>\n",
       "<p>739972 rows × 1 columns</p>\n",
       "</div>"
      ],
      "text/plain": [
       "                                                                  id\n",
       "point_of_interest                                                   \n",
       "P_00000458b5ff8e                                    E_b4a705f3f2e85e\n",
       "P_00001c309a5e0a   E_3b8a876a004093,E_7b12ba037d7af8,E_a66af82051...\n",
       "P_000047d288cb51                                    E_9822da0f40eaa3\n",
       "P_0000561fe92bed                   E_2f12c350e37a69,E_e14714f4aa6461\n",
       "P_0000bccb92573c                   E_408896b60c7893,E_822bc2df39ec06\n",
       "...                                                              ...\n",
       "P_ffff287983c417                   E_47d063fddd9115,E_ca42d07c618f1c\n",
       "P_ffff42b86df943                                    E_4d52ca0489f774\n",
       "P_ffff47d56844f9                                    E_c32f2d8e15a529\n",
       "P_ffffa5ef8f6b07                   E_12c3aee0fd46bf,E_62e191be55a951\n",
       "P_fffff25b7a8282                   E_f3fd59ee1756c8,E_ff9d2f082cb99e\n",
       "\n",
       "[739972 rows x 1 columns]"
      ]
     },
     "execution_count": 11,
     "metadata": {},
     "output_type": "execute_result"
    }
   ],
   "source": [
    "df.groupby('point_of_interest').agg({'id':lambda x: \",\".join(x)})"
   ]
  },
  {
   "cell_type": "code",
   "execution_count": null,
   "metadata": {},
   "outputs": [],
   "source": [
    "from sklearn.neighbors import KNeighborsRegressor\n"
   ]
  }
 ],
 "metadata": {
  "kernelspec": {
   "display_name": "Python 3",
   "language": "python",
   "name": "python3"
  },
  "language_info": {
   "codemirror_mode": {
    "name": "ipython",
    "version": 3
   },
   "file_extension": ".py",
   "mimetype": "text/x-python",
   "name": "python",
   "nbconvert_exporter": "python",
   "pygments_lexer": "ipython3",
   "version": "3.9.7"
  },
  "papermill": {
   "default_parameters": {},
   "duration": 23.197183,
   "end_time": "2022-05-29T16:45:07.437154",
   "environment_variables": {},
   "exception": null,
   "input_path": "__notebook__.ipynb",
   "output_path": "__notebook__.ipynb",
   "parameters": {},
   "start_time": "2022-05-29T16:44:44.239971",
   "version": "2.3.4"
  }
 },
 "nbformat": 4,
 "nbformat_minor": 5
}
