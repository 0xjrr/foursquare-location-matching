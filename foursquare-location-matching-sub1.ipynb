{
 "cells": [
  {
   "cell_type": "code",
   "execution_count": 1,
   "id": "53606fb8",
   "metadata": {
    "_cell_guid": "b1076dfc-b9ad-4769-8c92-a6c4dae69d19",
    "_uuid": "8f2839f25d086af736a60e9eeb907d3b93b6e0e5",
    "execution": {
     "iopub.execute_input": "2022-07-07T00:24:07.274588Z",
     "iopub.status.busy": "2022-07-07T00:24:07.274185Z",
     "iopub.status.idle": "2022-07-07T00:24:07.300045Z",
     "shell.execute_reply": "2022-07-07T00:24:07.299023Z"
    },
    "papermill": {
     "duration": 0.037067,
     "end_time": "2022-07-07T00:24:07.302375",
     "exception": false,
     "start_time": "2022-07-07T00:24:07.265308",
     "status": "completed"
    },
    "tags": []
   },
   "outputs": [],
   "source": [
    "%config Completer.use_jedi = False\n",
    "import numpy as np\n",
    "import pandas as pd\n",
    "import os\n",
    "import multiprocessing\n",
    "\n",
    "cores_available = multiprocessing.cpu_count()"
   ]
  },
  {
   "cell_type": "code",
   "execution_count": 2,
   "id": "4fe3fb13",
   "metadata": {
    "execution": {
     "iopub.execute_input": "2022-07-07T00:24:07.317380Z",
     "iopub.status.busy": "2022-07-07T00:24:07.317027Z",
     "iopub.status.idle": "2022-07-07T00:24:09.548682Z",
     "shell.execute_reply": "2022-07-07T00:24:09.547689Z"
    },
    "papermill": {
     "duration": 2.242242,
     "end_time": "2022-07-07T00:24:09.551338",
     "exception": false,
     "start_time": "2022-07-07T00:24:07.309096",
     "status": "completed"
    },
    "tags": []
   },
   "outputs": [
    {
     "data": {
      "text/html": [
       "<style type='text/css'>\n",
       ".datatable table.frame { margin-bottom: 0; }\n",
       ".datatable table.frame thead { border-bottom: none; }\n",
       ".datatable table.frame tr.coltypes td {  color: #FFFFFF;  line-height: 6px;  padding: 0 0.5em;}\n",
       ".datatable .bool    { background: #DDDD99; }\n",
       ".datatable .object  { background: #565656; }\n",
       ".datatable .int     { background: #5D9E5D; }\n",
       ".datatable .float   { background: #4040CC; }\n",
       ".datatable .str     { background: #CC4040; }\n",
       ".datatable .time    { background: #40CC40; }\n",
       ".datatable .row_index {  background: var(--jp-border-color3);  border-right: 1px solid var(--jp-border-color0);  color: var(--jp-ui-font-color3);  font-size: 9px;}\n",
       ".datatable .frame tbody td { text-align: left; }\n",
       ".datatable .frame tr.coltypes .row_index {  background: var(--jp-border-color0);}\n",
       ".datatable th:nth-child(2) { padding-left: 12px; }\n",
       ".datatable .hellipsis {  color: var(--jp-cell-editor-border-color);}\n",
       ".datatable .vellipsis {  background: var(--jp-layout-color0);  color: var(--jp-cell-editor-border-color);}\n",
       ".datatable .na {  color: var(--jp-cell-editor-border-color);  font-size: 80%;}\n",
       ".datatable .sp {  opacity: 0.25;}\n",
       ".datatable .footer { font-size: 9px; }\n",
       ".datatable .frame_dimensions {  background: var(--jp-border-color3);  border-top: 1px solid var(--jp-border-color0);  color: var(--jp-ui-font-color3);  display: inline-block;  opacity: 0.6;  padding: 1px 10px 1px 5px;}\n",
       "</style>\n"
      ],
      "text/plain": [
       "<IPython.core.display.HTML object>"
      ]
     },
     "metadata": {},
     "output_type": "display_data"
    }
   ],
   "source": [
    "import pyproj\n",
    "import lightgbm as lgb\n",
    "\n",
    "from scipy import spatial\n",
    "\n",
    "from sklearn.model_selection import train_test_split\n",
    "from sklearn.preprocessing import StandardScaler\n",
    "\n",
    "from fuzzywuzzy import fuzz"
   ]
  },
  {
   "cell_type": "code",
   "execution_count": 3,
   "id": "12b95e46",
   "metadata": {
    "execution": {
     "iopub.execute_input": "2022-07-07T00:24:09.568275Z",
     "iopub.status.busy": "2022-07-07T00:24:09.567634Z",
     "iopub.status.idle": "2022-07-07T00:24:09.574154Z",
     "shell.execute_reply": "2022-07-07T00:24:09.573303Z"
    },
    "papermill": {
     "duration": 0.015908,
     "end_time": "2022-07-07T00:24:09.575708",
     "exception": false,
     "start_time": "2022-07-07T00:24:09.559800",
     "status": "completed"
    },
    "tags": []
   },
   "outputs": [],
   "source": [
    "def name_fuzz_ratio_comp (df_obj, name_col, indices_col):\n",
    "    name_array = df_obj[name_col].to_numpy()\n",
    "    return df_obj[['name','indices']].apply(\n",
    "        lambda row: [fuzz.ratio(row['name'], index_name) \n",
    "                     for index_name \n",
    "                     in name_array[row['indices']]],\n",
    "        axis=1)"
   ]
  },
  {
   "cell_type": "code",
   "execution_count": 4,
   "id": "f167445f",
   "metadata": {
    "execution": {
     "iopub.execute_input": "2022-07-07T00:24:09.590726Z",
     "iopub.status.busy": "2022-07-07T00:24:09.590127Z",
     "iopub.status.idle": "2022-07-07T00:24:09.603110Z",
     "shell.execute_reply": "2022-07-07T00:24:09.602474Z"
    },
    "papermill": {
     "duration": 0.022552,
     "end_time": "2022-07-07T00:24:09.605038",
     "exception": false,
     "start_time": "2022-07-07T00:24:09.582486",
     "status": "completed"
    },
    "tags": []
   },
   "outputs": [],
   "source": [
    "def dataset_conversion(df: pd.DataFrame, transformer: pyproj.transformer.Transformer):\n",
    "    df['name'].fillna(value='',inplace=True)\n",
    "    \n",
    "    geocentr_cartesian = df[[ 'latitude', 'longitude']].apply(lambda x: transformer.transform( x.longitude, x.latitude, 0, radians=False), axis=1).to_numpy()\n",
    "    tree = spatial.KDTree(geocentr_cartesian.tolist())\n",
    "    loc_data = tree.query(geocentr_cartesian.tolist(),min(len(df),10), workers=max(cores_available-1, 1))    \n",
    "    distances, indices = loc_data\n",
    "    \n",
    "    df [[\"distances\", \"indices\"]]=pd.DataFrame(\n",
    "        data = {\n",
    "         \"distances\": distances.tolist(),\n",
    "         \"indices\": indices.tolist()\n",
    "        }, \n",
    "        columns = [\"distances\", \"indices\"]\n",
    "    )\n",
    "    \n",
    "    df['name_comp_fuzz_score'] = name_fuzz_ratio_comp(df, 'name', 'indices')\n",
    "    \n",
    "    x_train_set = np.apply_along_axis(\n",
    "        lambda x: list(\n",
    "            zip(\n",
    "                np.repeat(\n",
    "                    np.arange(x[0], x[0] + 1 ), len(x[1])\n",
    "                ),\n",
    "                x[1],\n",
    "                x[2],\n",
    "                x[3]\n",
    "            )\n",
    "        ),\n",
    "        1, \n",
    "        df[['indices', 'distances', 'name_comp_fuzz_score']].reset_index().to_numpy()\n",
    "    ).reshape((-1,4)).astype(int)\n",
    "    \n",
    "    try:\n",
    "        y_train_set = (df['point_of_interest'].to_numpy()[x_train_set[:,0]]==df['point_of_interest'].to_numpy()[x_train_set[:,1]]).astype(int)\n",
    "    except:\n",
    "        y_train_set = None\n",
    "    \n",
    "    return x_train_set, y_train_set"
   ]
  },
  {
   "cell_type": "code",
   "execution_count": 5,
   "id": "baf371b5",
   "metadata": {
    "execution": {
     "iopub.execute_input": "2022-07-07T00:24:09.620865Z",
     "iopub.status.busy": "2022-07-07T00:24:09.620292Z",
     "iopub.status.idle": "2022-07-07T00:24:09.683281Z",
     "shell.execute_reply": "2022-07-07T00:24:09.682027Z"
    },
    "papermill": {
     "duration": 0.073361,
     "end_time": "2022-07-07T00:24:09.685436",
     "exception": false,
     "start_time": "2022-07-07T00:24:09.612075",
     "status": "completed"
    },
    "tags": []
   },
   "outputs": [],
   "source": [
    "transformer = pyproj.Transformer.from_crs(\n",
    "        {\"proj\":'latlong', \"ellps\":'WGS84', \"datum\":'WGS84'},\n",
    "        {\"proj\":'geocent', \"ellps\":'WGS84', \"datum\":'WGS84'},\n",
    "        )"
   ]
  },
  {
   "cell_type": "code",
   "execution_count": 6,
   "id": "b2d58efa",
   "metadata": {
    "execution": {
     "iopub.execute_input": "2022-07-07T00:24:09.700397Z",
     "iopub.status.busy": "2022-07-07T00:24:09.700049Z",
     "iopub.status.idle": "2022-07-07T00:24:17.803252Z",
     "shell.execute_reply": "2022-07-07T00:24:17.802271Z"
    },
    "papermill": {
     "duration": 8.113475,
     "end_time": "2022-07-07T00:24:17.805856",
     "exception": false,
     "start_time": "2022-07-07T00:24:09.692381",
     "status": "completed"
    },
    "tags": []
   },
   "outputs": [],
   "source": [
    "dataframe_train_set = pd.read_csv('/kaggle/input/foursquare-location-matching/train.csv')"
   ]
  },
  {
   "cell_type": "code",
   "execution_count": 7,
   "id": "eddc12e4",
   "metadata": {
    "execution": {
     "iopub.execute_input": "2022-07-07T00:24:17.829283Z",
     "iopub.status.busy": "2022-07-07T00:24:17.828975Z",
     "iopub.status.idle": "2022-07-07T00:24:17.839136Z",
     "shell.execute_reply": "2022-07-07T00:24:17.838154Z"
    },
    "papermill": {
     "duration": 0.024619,
     "end_time": "2022-07-07T00:24:17.841368",
     "exception": false,
     "start_time": "2022-07-07T00:24:17.816749",
     "status": "completed"
    },
    "tags": []
   },
   "outputs": [],
   "source": [
    "dataframe_test_set = pd.read_csv('/kaggle/input/foursquare-location-matching/test.csv')"
   ]
  },
  {
   "cell_type": "code",
   "execution_count": 8,
   "id": "7b79ff31",
   "metadata": {
    "execution": {
     "iopub.execute_input": "2022-07-07T00:24:17.856970Z",
     "iopub.status.busy": "2022-07-07T00:24:17.856528Z",
     "iopub.status.idle": "2022-07-07T00:28:49.279026Z",
     "shell.execute_reply": "2022-07-07T00:28:49.277943Z"
    },
    "papermill": {
     "duration": 271.433608,
     "end_time": "2022-07-07T00:28:49.281840",
     "exception": false,
     "start_time": "2022-07-07T00:24:17.848232",
     "status": "completed"
    },
    "tags": []
   },
   "outputs": [],
   "source": [
    "x_train_set, y_train = dataset_conversion(dataframe_train_set, transformer)"
   ]
  },
  {
   "cell_type": "code",
   "execution_count": 9,
   "id": "e99f037c",
   "metadata": {
    "execution": {
     "iopub.execute_input": "2022-07-07T00:28:49.305182Z",
     "iopub.status.busy": "2022-07-07T00:28:49.304823Z",
     "iopub.status.idle": "2022-07-07T00:28:49.318960Z",
     "shell.execute_reply": "2022-07-07T00:28:49.318021Z"
    },
    "papermill": {
     "duration": 0.028474,
     "end_time": "2022-07-07T00:28:49.321172",
     "exception": false,
     "start_time": "2022-07-07T00:28:49.292698",
     "status": "completed"
    },
    "tags": []
   },
   "outputs": [],
   "source": [
    "x_test_set, _ = dataset_conversion(dataframe_test_set, transformer)"
   ]
  },
  {
   "cell_type": "code",
   "execution_count": 10,
   "id": "60cac6c0",
   "metadata": {
    "execution": {
     "iopub.execute_input": "2022-07-07T00:28:49.344344Z",
     "iopub.status.busy": "2022-07-07T00:28:49.343973Z",
     "iopub.status.idle": "2022-07-07T00:28:49.349426Z",
     "shell.execute_reply": "2022-07-07T00:28:49.348101Z"
    },
    "papermill": {
     "duration": 0.019139,
     "end_time": "2022-07-07T00:28:49.351323",
     "exception": false,
     "start_time": "2022-07-07T00:28:49.332184",
     "status": "completed"
    },
    "tags": []
   },
   "outputs": [],
   "source": [
    "X_train, X_test = x_train_set[:,2:], x_test_set[:,2:]"
   ]
  },
  {
   "cell_type": "code",
   "execution_count": 11,
   "id": "cff2acd8",
   "metadata": {
    "execution": {
     "iopub.execute_input": "2022-07-07T00:28:49.373274Z",
     "iopub.status.busy": "2022-07-07T00:28:49.372980Z",
     "iopub.status.idle": "2022-07-07T00:28:51.207895Z",
     "shell.execute_reply": "2022-07-07T00:28:51.206841Z"
    },
    "papermill": {
     "duration": 1.848217,
     "end_time": "2022-07-07T00:28:51.210028",
     "exception": false,
     "start_time": "2022-07-07T00:28:49.361811",
     "status": "completed"
    },
    "tags": []
   },
   "outputs": [],
   "source": [
    "sc = StandardScaler()\n",
    "X_train = sc.fit_transform(X_train)\n",
    "X_test = sc.transform(X_test)"
   ]
  },
  {
   "cell_type": "code",
   "execution_count": 12,
   "id": "a6f740ff",
   "metadata": {
    "execution": {
     "iopub.execute_input": "2022-07-07T00:28:51.225192Z",
     "iopub.status.busy": "2022-07-07T00:28:51.224688Z",
     "iopub.status.idle": "2022-07-07T00:28:51.228126Z",
     "shell.execute_reply": "2022-07-07T00:28:51.227513Z"
    },
    "papermill": {
     "duration": 0.013166,
     "end_time": "2022-07-07T00:28:51.230174",
     "exception": false,
     "start_time": "2022-07-07T00:28:51.217008",
     "status": "completed"
    },
    "tags": []
   },
   "outputs": [],
   "source": [
    "# pd.read_csv('kaggle/input/foursquare-location-matching/pairs.csv')\n",
    "# pd.read_csv('kaggle/input/foursquare-location-matching/test.csv')\n",
    "# pd.read_csv('/kaggle/input/foursquare-location-matching/sample_submission.csv')\n",
    "# pd.read_csv('/kaggle/input/foursquare-location-matching/train.csv')\n"
   ]
  },
  {
   "cell_type": "code",
   "execution_count": 13,
   "id": "953d86ed",
   "metadata": {
    "execution": {
     "iopub.execute_input": "2022-07-07T00:28:51.253441Z",
     "iopub.status.busy": "2022-07-07T00:28:51.252851Z",
     "iopub.status.idle": "2022-07-07T00:28:51.257103Z",
     "shell.execute_reply": "2022-07-07T00:28:51.256465Z"
    },
    "papermill": {
     "duration": 0.017801,
     "end_time": "2022-07-07T00:28:51.258833",
     "exception": false,
     "start_time": "2022-07-07T00:28:51.241032",
     "status": "completed"
    },
    "tags": []
   },
   "outputs": [],
   "source": [
    "d_train = lgb.Dataset(X_train, label=y_train)"
   ]
  },
  {
   "cell_type": "code",
   "execution_count": 14,
   "id": "4d289b46",
   "metadata": {
    "execution": {
     "iopub.execute_input": "2022-07-07T00:28:51.274141Z",
     "iopub.status.busy": "2022-07-07T00:28:51.273598Z",
     "iopub.status.idle": "2022-07-07T00:28:51.279309Z",
     "shell.execute_reply": "2022-07-07T00:28:51.278600Z"
    },
    "papermill": {
     "duration": 0.015443,
     "end_time": "2022-07-07T00:28:51.281069",
     "exception": false,
     "start_time": "2022-07-07T00:28:51.265626",
     "status": "completed"
    },
    "tags": []
   },
   "outputs": [],
   "source": [
    "params = {}\n",
    "params['learning_rate'] = 0.003\n",
    "params['boosting_type'] = 'gbdt'\n",
    "params['objective'] = 'binary'\n",
    "params['metric'] = 'binary_logloss'\n",
    "params['sub_feature'] = 0.5\n",
    "params['num_leaves'] = 40\n",
    "params['min_data'] = 50\n",
    "params['max_depth'] = 10"
   ]
  },
  {
   "cell_type": "code",
   "execution_count": 15,
   "id": "055c347e",
   "metadata": {
    "execution": {
     "iopub.execute_input": "2022-07-07T00:28:51.296105Z",
     "iopub.status.busy": "2022-07-07T00:28:51.295572Z",
     "iopub.status.idle": "2022-07-07T00:35:55.543773Z",
     "shell.execute_reply": "2022-07-07T00:35:55.542995Z"
    },
    "papermill": {
     "duration": 424.258321,
     "end_time": "2022-07-07T00:35:55.546157",
     "exception": false,
     "start_time": "2022-07-07T00:28:51.287836",
     "status": "completed"
    },
    "tags": []
   },
   "outputs": [
    {
     "name": "stdout",
     "output_type": "stream",
     "text": [
      "[LightGBM] [Info] Number of positive: 1802314, number of negative: 9585806\n",
      "[LightGBM] [Warning] Auto-choosing row-wise multi-threading, the overhead of testing was 0.057743 seconds.\n",
      "You can set `force_row_wise=true` to remove the overhead.\n",
      "And if memory is not enough, you can set `force_col_wise=true`.\n",
      "[LightGBM] [Info] Total Bins 355\n",
      "[LightGBM] [Info] Number of data points in the train set: 11388120, number of used features: 2\n",
      "[LightGBM] [Info] [binary:BoostFromScore]: pavg=0.158263 -> initscore=-1.671212\n",
      "[LightGBM] [Info] Start training from score -1.671212\n"
     ]
    }
   ],
   "source": [
    "clf = lgb.train(params, d_train, 1000)"
   ]
  },
  {
   "cell_type": "code",
   "execution_count": null,
   "id": "fd9378ad",
   "metadata": {
    "papermill": {
     "duration": 0.01063,
     "end_time": "2022-07-07T00:35:55.568121",
     "exception": false,
     "start_time": "2022-07-07T00:35:55.557491",
     "status": "completed"
    },
    "tags": []
   },
   "outputs": [],
   "source": []
  },
  {
   "cell_type": "code",
   "execution_count": 16,
   "id": "42f898f2",
   "metadata": {
    "execution": {
     "iopub.execute_input": "2022-07-07T00:35:55.592170Z",
     "iopub.status.busy": "2022-07-07T00:35:55.591639Z",
     "iopub.status.idle": "2022-07-07T00:35:55.596369Z",
     "shell.execute_reply": "2022-07-07T00:35:55.594880Z"
    },
    "papermill": {
     "duration": 0.019867,
     "end_time": "2022-07-07T00:35:55.599105",
     "exception": false,
     "start_time": "2022-07-07T00:35:55.579238",
     "status": "completed"
    },
    "tags": []
   },
   "outputs": [],
   "source": [
    "# y_pred=clf.predict(X_train)\n",
    "# y_pred[y_pred >= 0.5] = 1\n",
    "# y_pred[y_pred < 0.5] = 0"
   ]
  },
  {
   "cell_type": "code",
   "execution_count": 17,
   "id": "1340d662",
   "metadata": {
    "execution": {
     "iopub.execute_input": "2022-07-07T00:35:55.617505Z",
     "iopub.status.busy": "2022-07-07T00:35:55.617104Z",
     "iopub.status.idle": "2022-07-07T00:35:55.620771Z",
     "shell.execute_reply": "2022-07-07T00:35:55.620119Z"
    },
    "papermill": {
     "duration": 0.013426,
     "end_time": "2022-07-07T00:35:55.622348",
     "exception": false,
     "start_time": "2022-07-07T00:35:55.608922",
     "status": "completed"
    },
    "tags": []
   },
   "outputs": [],
   "source": [
    "# y_pred"
   ]
  },
  {
   "cell_type": "code",
   "execution_count": 18,
   "id": "dcc2b12d",
   "metadata": {
    "execution": {
     "iopub.execute_input": "2022-07-07T00:35:55.637727Z",
     "iopub.status.busy": "2022-07-07T00:35:55.637171Z",
     "iopub.status.idle": "2022-07-07T00:35:55.640737Z",
     "shell.execute_reply": "2022-07-07T00:35:55.639999Z"
    },
    "papermill": {
     "duration": 0.012949,
     "end_time": "2022-07-07T00:35:55.642337",
     "exception": false,
     "start_time": "2022-07-07T00:35:55.629388",
     "status": "completed"
    },
    "tags": []
   },
   "outputs": [],
   "source": [
    "# x_train_set[np.concatenate(([y_pred ==1], [x_train_set[:,0]!=x_train_set[:,1]]),axis=0, ).all(axis=0)]"
   ]
  },
  {
   "cell_type": "code",
   "execution_count": 19,
   "id": "ba7fcb74",
   "metadata": {
    "execution": {
     "iopub.execute_input": "2022-07-07T00:35:55.658603Z",
     "iopub.status.busy": "2022-07-07T00:35:55.658031Z",
     "iopub.status.idle": "2022-07-07T00:35:55.661907Z",
     "shell.execute_reply": "2022-07-07T00:35:55.661256Z"
    },
    "papermill": {
     "duration": 0.013798,
     "end_time": "2022-07-07T00:35:55.663457",
     "exception": false,
     "start_time": "2022-07-07T00:35:55.649659",
     "status": "completed"
    },
    "tags": []
   },
   "outputs": [],
   "source": [
    "# df_matches = pd.DataFrame(data=x_train_set[np.concatenate(([y_pred ==1], [x_train_set[:,0]!=x_train_set[:,1]]),axis=0, ).all(axis=0)][:,:2], columns=['indx', 'corresp'])"
   ]
  },
  {
   "cell_type": "code",
   "execution_count": 20,
   "id": "587dc311",
   "metadata": {
    "execution": {
     "iopub.execute_input": "2022-07-07T00:35:55.678590Z",
     "iopub.status.busy": "2022-07-07T00:35:55.678228Z",
     "iopub.status.idle": "2022-07-07T00:35:55.683924Z",
     "shell.execute_reply": "2022-07-07T00:35:55.682489Z"
    },
    "papermill": {
     "duration": 0.015535,
     "end_time": "2022-07-07T00:35:55.685854",
     "exception": false,
     "start_time": "2022-07-07T00:35:55.670319",
     "status": "completed"
    },
    "tags": []
   },
   "outputs": [],
   "source": [
    "# if df_matches.empty:\n",
    "#     pass\n",
    "# import networkx as nx\n",
    "# G = nx.Graph()\n",
    "# G.add_edges_from(df_matches.values)"
   ]
  },
  {
   "cell_type": "code",
   "execution_count": 21,
   "id": "eef3ccbb",
   "metadata": {
    "execution": {
     "iopub.execute_input": "2022-07-07T00:35:55.701068Z",
     "iopub.status.busy": "2022-07-07T00:35:55.700783Z",
     "iopub.status.idle": "2022-07-07T00:35:55.704579Z",
     "shell.execute_reply": "2022-07-07T00:35:55.703633Z"
    },
    "papermill": {
     "duration": 0.013442,
     "end_time": "2022-07-07T00:35:55.706162",
     "exception": false,
     "start_time": "2022-07-07T00:35:55.692720",
     "status": "completed"
    },
    "tags": []
   },
   "outputs": [],
   "source": [
    "# def set_to_id_string(node_index):\n",
    "#     try:\n",
    "#         id_string = ' '.join([dataframe_train_set.loc[value,'id'] for value in nx.node_connected_component(G, node_index)])\n",
    "#     except KeyError:\n",
    "#         id_string = dataframe_train_set.loc[node_index,'id']\n",
    "#     return id_string"
   ]
  },
  {
   "cell_type": "code",
   "execution_count": 22,
   "id": "5f142b5d",
   "metadata": {
    "execution": {
     "iopub.execute_input": "2022-07-07T00:35:55.721032Z",
     "iopub.status.busy": "2022-07-07T00:35:55.720642Z",
     "iopub.status.idle": "2022-07-07T00:35:55.725105Z",
     "shell.execute_reply": "2022-07-07T00:35:55.724182Z"
    },
    "papermill": {
     "duration": 0.013925,
     "end_time": "2022-07-07T00:35:55.726717",
     "exception": false,
     "start_time": "2022-07-07T00:35:55.712792",
     "status": "completed"
    },
    "tags": []
   },
   "outputs": [],
   "source": [
    "# dataframe_train_set.loc[1,:].name"
   ]
  },
  {
   "cell_type": "code",
   "execution_count": 23,
   "id": "1e7f97cf",
   "metadata": {
    "execution": {
     "iopub.execute_input": "2022-07-07T00:35:55.747031Z",
     "iopub.status.busy": "2022-07-07T00:35:55.746310Z",
     "iopub.status.idle": "2022-07-07T00:35:55.750882Z",
     "shell.execute_reply": "2022-07-07T00:35:55.749850Z"
    },
    "papermill": {
     "duration": 0.018938,
     "end_time": "2022-07-07T00:35:55.752725",
     "exception": false,
     "start_time": "2022-07-07T00:35:55.733787",
     "status": "completed"
    },
    "tags": []
   },
   "outputs": [],
   "source": [
    "# dataframe_train_set['matches'] = dataframe_train_set.apply(lambda row: set_to_id_string(row.name), axis=1)"
   ]
  },
  {
   "cell_type": "markdown",
   "id": "1638e839",
   "metadata": {
    "papermill": {
     "duration": 0.011133,
     "end_time": "2022-07-07T00:35:55.774849",
     "exception": false,
     "start_time": "2022-07-07T00:35:55.763716",
     "status": "completed"
    },
    "tags": []
   },
   "source": []
  },
  {
   "cell_type": "code",
   "execution_count": 24,
   "id": "52f244d0",
   "metadata": {
    "execution": {
     "iopub.execute_input": "2022-07-07T00:35:55.799236Z",
     "iopub.status.busy": "2022-07-07T00:35:55.798676Z",
     "iopub.status.idle": "2022-07-07T00:35:55.802035Z",
     "shell.execute_reply": "2022-07-07T00:35:55.801397Z"
    },
    "papermill": {
     "duration": 0.017887,
     "end_time": "2022-07-07T00:35:55.803998",
     "exception": false,
     "start_time": "2022-07-07T00:35:55.786111",
     "status": "completed"
    },
    "tags": []
   },
   "outputs": [],
   "source": [
    "# dataframe_train_set[['id','matches']]"
   ]
  },
  {
   "cell_type": "code",
   "execution_count": 25,
   "id": "44ebc147",
   "metadata": {
    "execution": {
     "iopub.execute_input": "2022-07-07T00:35:55.827795Z",
     "iopub.status.busy": "2022-07-07T00:35:55.827234Z",
     "iopub.status.idle": "2022-07-07T00:35:55.830779Z",
     "shell.execute_reply": "2022-07-07T00:35:55.830054Z"
    },
    "papermill": {
     "duration": 0.018376,
     "end_time": "2022-07-07T00:35:55.833185",
     "exception": false,
     "start_time": "2022-07-07T00:35:55.814809",
     "status": "completed"
    },
    "tags": []
   },
   "outputs": [],
   "source": [
    "# dataframe_train_set[['id','matches']].to_csv('submission.csv', index=False)"
   ]
  },
  {
   "cell_type": "code",
   "execution_count": null,
   "id": "9eda4d3e",
   "metadata": {
    "papermill": {
     "duration": 0.008469,
     "end_time": "2022-07-07T00:35:55.852921",
     "exception": false,
     "start_time": "2022-07-07T00:35:55.844452",
     "status": "completed"
    },
    "tags": []
   },
   "outputs": [],
   "source": []
  },
  {
   "cell_type": "code",
   "execution_count": null,
   "id": "d5b47bae",
   "metadata": {
    "papermill": {
     "duration": 0.00678,
     "end_time": "2022-07-07T00:35:55.866479",
     "exception": false,
     "start_time": "2022-07-07T00:35:55.859699",
     "status": "completed"
    },
    "tags": []
   },
   "outputs": [],
   "source": []
  },
  {
   "cell_type": "code",
   "execution_count": 26,
   "id": "4b60dcb4",
   "metadata": {
    "execution": {
     "iopub.execute_input": "2022-07-07T00:35:55.882604Z",
     "iopub.status.busy": "2022-07-07T00:35:55.882072Z",
     "iopub.status.idle": "2022-07-07T00:35:55.888287Z",
     "shell.execute_reply": "2022-07-07T00:35:55.887513Z"
    },
    "papermill": {
     "duration": 0.01752,
     "end_time": "2022-07-07T00:35:55.890950",
     "exception": false,
     "start_time": "2022-07-07T00:35:55.873430",
     "status": "completed"
    },
    "tags": []
   },
   "outputs": [],
   "source": [
    "y_pred=clf.predict(X_test)\n",
    "y_pred[y_pred >= 0.5] = 1\n",
    "y_pred[y_pred < 0.5] = 0"
   ]
  },
  {
   "cell_type": "code",
   "execution_count": 27,
   "id": "6105af05",
   "metadata": {
    "execution": {
     "iopub.execute_input": "2022-07-07T00:35:55.915426Z",
     "iopub.status.busy": "2022-07-07T00:35:55.915055Z",
     "iopub.status.idle": "2022-07-07T00:35:55.922920Z",
     "shell.execute_reply": "2022-07-07T00:35:55.922175Z"
    },
    "papermill": {
     "duration": 0.021615,
     "end_time": "2022-07-07T00:35:55.924593",
     "exception": false,
     "start_time": "2022-07-07T00:35:55.902978",
     "status": "completed"
    },
    "tags": []
   },
   "outputs": [
    {
     "data": {
      "text/plain": [
       "array([], shape=(0, 4), dtype=int64)"
      ]
     },
     "execution_count": 27,
     "metadata": {},
     "output_type": "execute_result"
    }
   ],
   "source": [
    "x_test_set[np.concatenate(([y_pred ==1], [x_test_set[:,0]!=x_test_set[:,1]]),axis=0, ).all(axis=0)]"
   ]
  },
  {
   "cell_type": "code",
   "execution_count": 28,
   "id": "aca2fcc2",
   "metadata": {
    "execution": {
     "iopub.execute_input": "2022-07-07T00:35:55.939860Z",
     "iopub.status.busy": "2022-07-07T00:35:55.939275Z",
     "iopub.status.idle": "2022-07-07T00:35:55.954514Z",
     "shell.execute_reply": "2022-07-07T00:35:55.953245Z"
    },
    "papermill": {
     "duration": 0.025446,
     "end_time": "2022-07-07T00:35:55.956718",
     "exception": false,
     "start_time": "2022-07-07T00:35:55.931272",
     "status": "completed"
    },
    "tags": []
   },
   "outputs": [
    {
     "data": {
      "text/html": [
       "<div>\n",
       "<style scoped>\n",
       "    .dataframe tbody tr th:only-of-type {\n",
       "        vertical-align: middle;\n",
       "    }\n",
       "\n",
       "    .dataframe tbody tr th {\n",
       "        vertical-align: top;\n",
       "    }\n",
       "\n",
       "    .dataframe thead th {\n",
       "        text-align: right;\n",
       "    }\n",
       "</style>\n",
       "<table border=\"1\" class=\"dataframe\">\n",
       "  <thead>\n",
       "    <tr style=\"text-align: right;\">\n",
       "      <th></th>\n",
       "      <th>indx</th>\n",
       "      <th>corresp</th>\n",
       "    </tr>\n",
       "  </thead>\n",
       "  <tbody>\n",
       "  </tbody>\n",
       "</table>\n",
       "</div>"
      ],
      "text/plain": [
       "Empty DataFrame\n",
       "Columns: [indx, corresp]\n",
       "Index: []"
      ]
     },
     "execution_count": 28,
     "metadata": {},
     "output_type": "execute_result"
    }
   ],
   "source": [
    "pd.DataFrame(data=x_test_set[np.concatenate(([y_pred ==1], [x_test_set[:,0]!=x_test_set[:,1]]),axis=0, ).all(axis=0)][:,:2], columns=['indx', 'corresp'])"
   ]
  },
  {
   "cell_type": "code",
   "execution_count": 29,
   "id": "e440054a",
   "metadata": {
    "execution": {
     "iopub.execute_input": "2022-07-07T00:35:55.980640Z",
     "iopub.status.busy": "2022-07-07T00:35:55.980283Z",
     "iopub.status.idle": "2022-07-07T00:35:55.986860Z",
     "shell.execute_reply": "2022-07-07T00:35:55.986136Z"
    },
    "papermill": {
     "duration": 0.020719,
     "end_time": "2022-07-07T00:35:55.988723",
     "exception": false,
     "start_time": "2022-07-07T00:35:55.968004",
     "status": "completed"
    },
    "tags": []
   },
   "outputs": [],
   "source": [
    "df_matches = pd.DataFrame(data=x_test_set[np.concatenate(([y_pred ==1], [x_test_set[:,0]!=x_test_set[:,1]]),axis=0, ).all(axis=0)][:,:2], columns=['indx', 'corresp'])"
   ]
  },
  {
   "cell_type": "code",
   "execution_count": 30,
   "id": "5cce5e03",
   "metadata": {
    "execution": {
     "iopub.execute_input": "2022-07-07T00:35:56.004302Z",
     "iopub.status.busy": "2022-07-07T00:35:56.003610Z",
     "iopub.status.idle": "2022-07-07T00:35:56.378537Z",
     "shell.execute_reply": "2022-07-07T00:35:56.377266Z"
    },
    "papermill": {
     "duration": 0.385011,
     "end_time": "2022-07-07T00:35:56.380779",
     "exception": false,
     "start_time": "2022-07-07T00:35:55.995768",
     "status": "completed"
    },
    "tags": []
   },
   "outputs": [],
   "source": [
    "import networkx as nx\n",
    "\n",
    "if df_matches.empty:\n",
    "    dataframe_test_set['matches'] = dataframe_test_set['id']\n",
    "else:\n",
    "    G = nx.Graph()\n",
    "    G.add_edges_from(df_matches.values)\n",
    "    def set_to_id_string(node_index):\n",
    "        try:\n",
    "            id_string = ' '.join([dataframe_test_set.loc[value,'id'] for value in nx.node_connected_component(G, node_index)])\n",
    "        except KeyError:\n",
    "            id_string = dataframe_test_set.loc[node_index,'id']\n",
    "        return id_string\n",
    "    \n",
    "    dataframe_test_set['matches'] = dataframe_test_set.apply(lambda row: set_to_id_string(row.name), axis=1)\n",
    "\n",
    "dataframe_test_set[['id','matches']].to_csv('submission.csv', index=False)"
   ]
  },
  {
   "cell_type": "code",
   "execution_count": null,
   "id": "fdd3d54a",
   "metadata": {
    "papermill": {
     "duration": 0.00712,
     "end_time": "2022-07-07T00:35:56.395257",
     "exception": false,
     "start_time": "2022-07-07T00:35:56.388137",
     "status": "completed"
    },
    "tags": []
   },
   "outputs": [],
   "source": []
  }
 ],
 "metadata": {
  "kernelspec": {
   "display_name": "Python 3",
   "language": "python",
   "name": "python3"
  },
  "language_info": {
   "codemirror_mode": {
    "name": "ipython",
    "version": 3
   },
   "file_extension": ".py",
   "mimetype": "text/x-python",
   "name": "python",
   "nbconvert_exporter": "python",
   "pygments_lexer": "ipython3",
   "version": "3.7.12"
  },
  "papermill": {
   "default_parameters": {},
   "duration": 722.183703,
   "end_time": "2022-07-07T00:35:59.024054",
   "environment_variables": {},
   "exception": null,
   "input_path": "__notebook__.ipynb",
   "output_path": "__notebook__.ipynb",
   "parameters": {},
   "start_time": "2022-07-07T00:23:56.840351",
   "version": "2.3.4"
  }
 },
 "nbformat": 4,
 "nbformat_minor": 5
}
